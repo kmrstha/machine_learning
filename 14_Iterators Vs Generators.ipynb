{
 "cells": [
  {
   "cell_type": "code",
   "execution_count": 1,
   "id": "57b1e45e-a50b-45f6-a1be-377ffdf97098",
   "metadata": {},
   "outputs": [
    {
     "name": "stdout",
     "output_type": "stream",
     "text": [
      "1\n",
      "2\n",
      "3\n",
      "4\n"
     ]
    }
   ],
   "source": [
    "# iterable\n",
    "lst=[1,2,3,4]\n",
    "for i in lst:\n",
    "    print (i)"
   ]
  },
  {
   "cell_type": "code",
   "execution_count": 11,
   "id": "c6384511-9cb1-4a9a-a31c-63b9d2fea13d",
   "metadata": {},
   "outputs": [],
   "source": [
    "#iterator\n",
    "iterable=iter(lst)"
   ]
  },
  {
   "cell_type": "code",
   "execution_count": 13,
   "id": "09427776-c738-46b0-af7c-220e4c1f93d1",
   "metadata": {},
   "outputs": [
    {
     "data": {
      "text/plain": [
       "list_iterator"
      ]
     },
     "execution_count": 13,
     "metadata": {},
     "output_type": "execute_result"
    }
   ],
   "source": [
    "type(iterable)"
   ]
  },
  {
   "cell_type": "code",
   "execution_count": 15,
   "id": "1044460b-bfde-4749-987f-e32c77461add",
   "metadata": {},
   "outputs": [
    {
     "data": {
      "text/plain": [
       "<list_iterator at 0x18914237640>"
      ]
     },
     "execution_count": 15,
     "metadata": {},
     "output_type": "execute_result"
    }
   ],
   "source": [
    "iterable"
   ]
  },
  {
   "cell_type": "code",
   "execution_count": 23,
   "id": "79a781ab-08e7-454b-9332-1bb4f59e2d67",
   "metadata": {},
   "outputs": [
    {
     "name": "stdout",
     "output_type": "stream",
     "text": [
      "The iterator is empty\n"
     ]
    }
   ],
   "source": [
    "try:\n",
    "    print(next(iterable))\n",
    "except StopIteration:\n",
    "    print(\"The iterator is empty\")"
   ]
  },
  {
   "cell_type": "code",
   "execution_count": 19,
   "id": "278d91db-2c49-412d-8b1f-db3620a85ea8",
   "metadata": {},
   "outputs": [
    {
     "name": "stdout",
     "output_type": "stream",
     "text": [
      "2\n",
      "3\n",
      "4\n"
     ]
    }
   ],
   "source": [
    "# We can iterate\n",
    "for i in iterable:\n",
    "    print(i)"
   ]
  },
  {
   "cell_type": "code",
   "execution_count": 25,
   "id": "642eb3e4-96e1-4923-89db-485f0220d05c",
   "metadata": {},
   "outputs": [],
   "source": [
    "# Generator\n",
    "def square(n):\n",
    "    for i in range(n):\n",
    "        return i**2"
   ]
  },
  {
   "cell_type": "code",
   "execution_count": 27,
   "id": "9a3ebb41-5a66-4de5-ac4e-b495303920f8",
   "metadata": {},
   "outputs": [
    {
     "data": {
      "text/plain": [
       "0"
      ]
     },
     "execution_count": 27,
     "metadata": {},
     "output_type": "execute_result"
    }
   ],
   "source": [
    "square(3)"
   ]
  },
  {
   "cell_type": "code",
   "execution_count": 31,
   "id": "081d338d-6f1b-4736-9153-f0468dd66ac8",
   "metadata": {},
   "outputs": [],
   "source": [
    "def square(n):\n",
    "    for i in range(n):\n",
    "        yield i**2"
   ]
  },
  {
   "cell_type": "code",
   "execution_count": 33,
   "id": "4c8fad57-03ab-4d6b-811d-7fb1d50bea8b",
   "metadata": {},
   "outputs": [
    {
     "data": {
      "text/plain": [
       "<generator object square at 0x0000018914122C20>"
      ]
     },
     "execution_count": 33,
     "metadata": {},
     "output_type": "execute_result"
    }
   ],
   "source": [
    "square(3)"
   ]
  },
  {
   "cell_type": "code",
   "execution_count": 37,
   "id": "5d0b2e43-25b0-479c-b56c-5b7772bee56c",
   "metadata": {},
   "outputs": [
    {
     "name": "stdout",
     "output_type": "stream",
     "text": [
      "0\n",
      "1\n",
      "4\n"
     ]
    }
   ],
   "source": [
    "for i in square(3):\n",
    "    print(i)"
   ]
  },
  {
   "cell_type": "code",
   "execution_count": 39,
   "id": "56dd16c6-3d42-415f-8cc9-d4c1db01e7cb",
   "metadata": {},
   "outputs": [
    {
     "data": {
      "text/plain": [
       "<generator object square at 0x0000018914122670>"
      ]
     },
     "execution_count": 39,
     "metadata": {},
     "output_type": "execute_result"
    }
   ],
   "source": [
    "a=square(3)\n",
    "a"
   ]
  },
  {
   "cell_type": "code",
   "execution_count": 43,
   "id": "ced5ac73-7c3d-446b-ba4b-2ae888f01b1b",
   "metadata": {},
   "outputs": [
    {
     "data": {
      "text/plain": [
       "1"
      ]
     },
     "execution_count": 43,
     "metadata": {},
     "output_type": "execute_result"
    }
   ],
   "source": [
    "next(a)"
   ]
  },
  {
   "cell_type": "markdown",
   "id": "1ebd4f96-c530-4957-b9fb-08dc3282ae35",
   "metadata": {},
   "source": [
    "## Difference\n",
    " 1. To create iterator we use iter() and to generator we use function along with yeild keyword\n",
    "  2. Generator uses the yield keyword. It saves the local variable.\n",
    "  3. Generator in python helps us to write fast and compact code.\n",
    "  4. Python iterator is much more memory efficient."
   ]
  },
  {
   "cell_type": "code",
   "execution_count": 55,
   "id": "5f6a41ca-1b01-42dc-887e-cbef02ad8b93",
   "metadata": {},
   "outputs": [],
   "source": [
    "import types,collections.abc"
   ]
  },
  {
   "cell_type": "code",
   "execution_count": 59,
   "id": "52599dcb-a781-46e9-8d8d-feedb9b62108",
   "metadata": {},
   "outputs": [
    {
     "data": {
      "text/plain": [
       "True"
      ]
     },
     "execution_count": 59,
     "metadata": {},
     "output_type": "execute_result"
    }
   ],
   "source": [
    "issubclass(types.GeneratorType,collections.abc.Iterator)"
   ]
  },
  {
   "cell_type": "code",
   "execution_count": null,
   "id": "0f3aaa87-13e3-492b-a8ca-47835de86d90",
   "metadata": {},
   "outputs": [],
   "source": []
  }
 ],
 "metadata": {
  "kernelspec": {
   "display_name": "Python 3 (ipykernel)",
   "language": "python",
   "name": "python3"
  },
  "language_info": {
   "codemirror_mode": {
    "name": "ipython",
    "version": 3
   },
   "file_extension": ".py",
   "mimetype": "text/x-python",
   "name": "python",
   "nbconvert_exporter": "python",
   "pygments_lexer": "ipython3",
   "version": "3.11.7"
  }
 },
 "nbformat": 4,
 "nbformat_minor": 5
}

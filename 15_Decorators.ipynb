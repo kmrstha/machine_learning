{
 "cells": [
  {
   "cell_type": "code",
   "execution_count": 1,
   "id": "58bae149-428b-47de-9469-6ae5dfe0a765",
   "metadata": {},
   "outputs": [],
   "source": [
    "# function copy\n",
    "# closures\n",
    "# decorators"
   ]
  },
  {
   "cell_type": "code",
   "execution_count": 9,
   "id": "c08b0226-dac2-4e96-867e-328c8a74167b",
   "metadata": {},
   "outputs": [],
   "source": [
    "def welcome():\n",
    "    return \"Welcome\""
   ]
  },
  {
   "cell_type": "code",
   "execution_count": 15,
   "id": "a65b3ff0-124b-4f2f-a195-20f2d0fb543f",
   "metadata": {},
   "outputs": [],
   "source": [
    "wel = welcome()\n",
    "del welcome"
   ]
  },
  {
   "cell_type": "code",
   "execution_count": 17,
   "id": "5ee5562a-5033-4e81-9957-135aa0eed330",
   "metadata": {},
   "outputs": [
    {
     "data": {
      "text/plain": [
       "'Welcome'"
      ]
     },
     "execution_count": 17,
     "metadata": {},
     "output_type": "execute_result"
    }
   ],
   "source": [
    "wel"
   ]
  },
  {
   "cell_type": "code",
   "execution_count": 19,
   "id": "528c8bc7-1730-4c7c-8bf7-358aa59a2df1",
   "metadata": {},
   "outputs": [
    {
     "ename": "NameError",
     "evalue": "name 'welcome' is not defined",
     "output_type": "error",
     "traceback": [
      "\u001b[1;31m---------------------------------------------------------------------------\u001b[0m",
      "\u001b[1;31mNameError\u001b[0m                                 Traceback (most recent call last)",
      "Cell \u001b[1;32mIn[19], line 1\u001b[0m\n\u001b[1;32m----> 1\u001b[0m welcome()\n",
      "\u001b[1;31mNameError\u001b[0m: name 'welcome' is not defined"
     ]
    }
   ],
   "source": [
    "welcome()"
   ]
  },
  {
   "cell_type": "code",
   "execution_count": 28,
   "id": "8d320576-4c55-4cbe-a25f-6e42371901ec",
   "metadata": {},
   "outputs": [],
   "source": [
    "# Closures\n",
    "def main_welcome(msg):\n",
    "    # msg=\"Hello everyone\"\n",
    "    def sub_welcome_class():\n",
    "        print(\"Welcome again\")\n",
    "        print(msg)\n",
    "        print(\"Thank you\")\n",
    "    return sub_welcome_class()"
   ]
  },
  {
   "cell_type": "code",
   "execution_count": 30,
   "id": "03466599-1756-44be-a920-e93524a7517c",
   "metadata": {},
   "outputs": [
    {
     "name": "stdout",
     "output_type": "stream",
     "text": [
      "Welcome again\n",
      "Hello\n",
      "Thank you\n"
     ]
    }
   ],
   "source": [
    "main_welcome(\"Hello\")"
   ]
  },
  {
   "cell_type": "code",
   "execution_count": 40,
   "id": "bda651c9-2991-47d5-8320-d85b45dfc590",
   "metadata": {},
   "outputs": [],
   "source": [
    "# Closures & initial Decorators\n",
    "def main_welcome(func):\n",
    "    # msg=\"Hello everyone\"\n",
    "    def sub_welcome_class():\n",
    "        print(\"Welcome again\")\n",
    "        print(func([1,2,3,4,5]))\n",
    "        print(\"Thank you\")\n",
    "    return sub_welcome_class()"
   ]
  },
  {
   "cell_type": "code",
   "execution_count": 42,
   "id": "d7d3e300-bde4-4221-b593-f2e5ace50491",
   "metadata": {},
   "outputs": [
    {
     "name": "stdout",
     "output_type": "stream",
     "text": [
      "Welcome again\n",
      "5\n",
      "Thank you\n"
     ]
    }
   ],
   "source": [
    "main_welcome(len)"
   ]
  },
  {
   "cell_type": "code",
   "execution_count": 50,
   "id": "5ba70d9a-b0a8-47c4-8034-fc0003aa990a",
   "metadata": {},
   "outputs": [],
   "source": [
    "#  Decorators\n",
    "def main_welcome(func):\n",
    "    # msg=\"Hello everyone\"\n",
    "    def sub_welcome_class():\n",
    "        print(\"Welcome again\")\n",
    "        func()\n",
    "        print(\"Thank you\")\n",
    "    return sub_welcome_class()"
   ]
  },
  {
   "cell_type": "code",
   "execution_count": 52,
   "id": "2c83a91d-7921-4255-88f5-3e1e43b9436d",
   "metadata": {},
   "outputs": [],
   "source": [
    "def channel_name():\n",
    "    print(\"This is a channel\")"
   ]
  },
  {
   "cell_type": "code",
   "execution_count": 54,
   "id": "dbb9bdb4-241d-42e5-acf7-b5ed8aa0ae30",
   "metadata": {},
   "outputs": [
    {
     "name": "stdout",
     "output_type": "stream",
     "text": [
      "Welcome again\n",
      "This is a channel\n",
      "Thank you\n"
     ]
    }
   ],
   "source": [
    "main_welcome(channel_name)"
   ]
  },
  {
   "cell_type": "code",
   "execution_count": 56,
   "id": "9d538562-e159-47a4-a05b-10993e19e877",
   "metadata": {},
   "outputs": [
    {
     "name": "stdout",
     "output_type": "stream",
     "text": [
      "Welcome again\n",
      "This is a channel\n",
      "Thank you\n"
     ]
    }
   ],
   "source": [
    "@main_welcome\n",
    "def channel_name():\n",
    "    print(\"This is a channel\")"
   ]
  },
  {
   "cell_type": "code",
   "execution_count": null,
   "id": "4e9e3249-10f2-466c-aa6f-26269821abdd",
   "metadata": {},
   "outputs": [],
   "source": []
  }
 ],
 "metadata": {
  "kernelspec": {
   "display_name": "Python 3 (ipykernel)",
   "language": "python",
   "name": "python3"
  },
  "language_info": {
   "codemirror_mode": {
    "name": "ipython",
    "version": 3
   },
   "file_extension": ".py",
   "mimetype": "text/x-python",
   "name": "python",
   "nbconvert_exporter": "python",
   "pygments_lexer": "ipython3",
   "version": "3.11.7"
  }
 },
 "nbformat": 4,
 "nbformat_minor": 5
}

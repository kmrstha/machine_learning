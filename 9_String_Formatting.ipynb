{
 "cells": [
  {
   "cell_type": "code",
   "execution_count": 1,
   "id": "770a97f4-1a1f-4820-a914-3a85339ccdcf",
   "metadata": {},
   "outputs": [
    {
     "name": "stdout",
     "output_type": "stream",
     "text": [
      "Hello everyone\n"
     ]
    }
   ],
   "source": [
    "print(\"Hello everyone\")"
   ]
  },
  {
   "cell_type": "code",
   "execution_count": 3,
   "id": "9a4f5427-9698-4412-80c9-150fcfb0add5",
   "metadata": {},
   "outputs": [],
   "source": [
    "def greeting(name):\n",
    "    return \"Hello {}. Welcome to the community.\".format(name)"
   ]
  },
  {
   "cell_type": "code",
   "execution_count": 5,
   "id": "3b4382b1-3322-43ad-b244-f8eb0f82de82",
   "metadata": {},
   "outputs": [
    {
     "data": {
      "text/plain": [
       "'Hello Eden. Welcome to the community.'"
      ]
     },
     "execution_count": 5,
     "metadata": {},
     "output_type": "execute_result"
    }
   ],
   "source": [
    "greeting(\"Eden\")"
   ]
  },
  {
   "cell_type": "code",
   "execution_count": 2,
   "id": "4a3f2f4f-463c-4ae5-b163-eaa8dfc46092",
   "metadata": {},
   "outputs": [],
   "source": [
    "def welcome_email(name, age):\n",
    "    return \"Wecome {}. Your age is {}\".format(name, age)"
   ]
  },
  {
   "cell_type": "code",
   "execution_count": 5,
   "id": "e0bd2882-55fb-4b14-83f9-515dd34f755a",
   "metadata": {},
   "outputs": [
    {
     "data": {
      "text/plain": [
       "'Wecome Hazard. Your age is 33'"
      ]
     },
     "execution_count": 5,
     "metadata": {},
     "output_type": "execute_result"
    }
   ],
   "source": [
    "welcome_email('Hazard', 33)"
   ]
  },
  {
   "cell_type": "code",
   "execution_count": 7,
   "id": "4b605153-c616-483d-aa4b-19dda9d2d19e",
   "metadata": {},
   "outputs": [],
   "source": [
    "def welcome_email(name, age):\n",
    "    return \"Wecome {name}. Your age is {age}\".format(name=name, age=age)"
   ]
  },
  {
   "cell_type": "code",
   "execution_count": 9,
   "id": "c89a841b-2838-4056-84da-7d1875c90f58",
   "metadata": {},
   "outputs": [
    {
     "data": {
      "text/plain": [
       "'Wecome Palmer. Your age is 22'"
      ]
     },
     "execution_count": 9,
     "metadata": {},
     "output_type": "execute_result"
    }
   ],
   "source": [
    "welcome_email('Palmer', 22)"
   ]
  },
  {
   "cell_type": "code",
   "execution_count": null,
   "id": "fa8c1d58-7b45-416b-98d4-b4c91767480b",
   "metadata": {},
   "outputs": [],
   "source": []
  }
 ],
 "metadata": {
  "kernelspec": {
   "display_name": "Python 3 (ipykernel)",
   "language": "python",
   "name": "python3"
  },
  "language_info": {
   "codemirror_mode": {
    "name": "ipython",
    "version": 3
   },
   "file_extension": ".py",
   "mimetype": "text/x-python",
   "name": "python",
   "nbconvert_exporter": "python",
   "pygments_lexer": "ipython3",
   "version": "3.11.7"
  }
 },
 "nbformat": 4,
 "nbformat_minor": 5
}

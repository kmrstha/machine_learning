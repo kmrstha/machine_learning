{
 "cells": [
  {
   "cell_type": "markdown",
   "id": "71c1f492-ef0b-4aa4-982d-2706432ed076",
   "metadata": {},
   "source": [
    "## Python Eval Function--Evaluating Expressions Dynamically"
   ]
  },
  {
   "cell_type": "code",
   "execution_count": 5,
   "id": "da0896bf-745f-44ed-8d9c-b91a0d0d2bb3",
   "metadata": {},
   "outputs": [
    {
     "data": {
      "text/plain": [
       "25"
      ]
     },
     "execution_count": 5,
     "metadata": {},
     "output_type": "execute_result"
    }
   ],
   "source": [
    "# Eval function evaluates python expression which are written as strings\n",
    "eval('5*5')"
   ]
  },
  {
   "cell_type": "code",
   "execution_count": 9,
   "id": "54a843b0-e07d-4d4b-87fd-18dc919132c0",
   "metadata": {},
   "outputs": [
    {
     "name": "stdin",
     "output_type": "stream",
     "text": [
      "Enter the python expression len([1,2,3,4,5])\n"
     ]
    },
    {
     "data": {
      "text/plain": [
       "5"
      ]
     },
     "execution_count": 9,
     "metadata": {},
     "output_type": "execute_result"
    }
   ],
   "source": [
    "eval(input(\"Enter the python expression\"))"
   ]
  },
  {
   "cell_type": "code",
   "execution_count": 11,
   "id": "939d8bdf-7ee6-4218-a4f0-c13202d10556",
   "metadata": {},
   "outputs": [
    {
     "name": "stdin",
     "output_type": "stream",
     "text": [
      "Enter the python expression sum([1,2,3,4,5])\n"
     ]
    },
    {
     "data": {
      "text/plain": [
       "15"
      ]
     },
     "execution_count": 11,
     "metadata": {},
     "output_type": "execute_result"
    }
   ],
   "source": [
    "eval(input(\"Enter the python expression\"))"
   ]
  },
  {
   "cell_type": "code",
   "execution_count": 13,
   "id": "8f9c407e-5821-4a18-a824-1e006733d449",
   "metadata": {},
   "outputs": [],
   "source": [
    "def square_num(num):\n",
    "    return num**2"
   ]
  },
  {
   "cell_type": "code",
   "execution_count": 17,
   "id": "01e85e74-67a5-47a8-bd77-9599021fd87e",
   "metadata": {},
   "outputs": [
    {
     "data": {
      "text/plain": [
       "4"
      ]
     },
     "execution_count": 17,
     "metadata": {},
     "output_type": "execute_result"
    }
   ],
   "source": [
    "eval('square_num(2)')"
   ]
  },
  {
   "cell_type": "markdown",
   "id": "7193cb5f-554a-4d16-bb6d-fa3054415f4c",
   "metadata": {},
   "source": [
    "## How does Eval work\n",
    "1. Parse python expression\n",
    "2. Compile into a byte code\n",
    "3. Evaluate the python expression\n",
    "4. It will return the result"
   ]
  },
  {
   "cell_type": "code",
   "execution_count": 26,
   "id": "769d0122-e015-4f0f-894f-017c85773914",
   "metadata": {},
   "outputs": [
    {
     "data": {
      "text/plain": [
       "<code object <module> at 0x000001AA6CBA55F0, file \"<string>\", line 1>"
      ]
     },
     "execution_count": 26,
     "metadata": {},
     "output_type": "execute_result"
    }
   ],
   "source": [
    "var=compile('5*5','<string>','eval')\n",
    "var"
   ]
  },
  {
   "cell_type": "code",
   "execution_count": 28,
   "id": "46d59f51-b44a-4fa2-a6e6-ce211de21930",
   "metadata": {},
   "outputs": [
    {
     "data": {
      "text/plain": [
       "25"
      ]
     },
     "execution_count": 28,
     "metadata": {},
     "output_type": "execute_result"
    }
   ],
   "source": [
    "eval(var)"
   ]
  },
  {
   "cell_type": "code",
   "execution_count": 34,
   "id": "94b311cb-b0d1-4794-aaca-0fab9a5cb2c9",
   "metadata": {},
   "outputs": [
    {
     "data": {
      "text/plain": [
       "160"
      ]
     },
     "execution_count": 34,
     "metadata": {},
     "output_type": "execute_result"
    }
   ],
   "source": [
    "# Gobals\n",
    "eval('x+50+x**2',{'x':10})"
   ]
  },
  {
   "cell_type": "code",
   "execution_count": 36,
   "id": "8bf89d02-f033-41c8-aa42-66c25b92c6fd",
   "metadata": {},
   "outputs": [
    {
     "data": {
      "text/plain": [
       "160"
      ]
     },
     "execution_count": 36,
     "metadata": {},
     "output_type": "execute_result"
    }
   ],
   "source": [
    "x=10\n",
    "eval('x+50+x**2',{'x':x})"
   ]
  },
  {
   "cell_type": "code",
   "execution_count": 38,
   "id": "290c9f2f-7c38-462b-8a0f-2f453f81d2fd",
   "metadata": {},
   "outputs": [
    {
     "ename": "NameError",
     "evalue": "name 'z' is not defined",
     "output_type": "error",
     "traceback": [
      "\u001b[1;31m---------------------------------------------------------------------------\u001b[0m",
      "\u001b[1;31mNameError\u001b[0m                                 Traceback (most recent call last)",
      "Cell \u001b[1;32mIn[38], line 3\u001b[0m\n\u001b[0;32m      1\u001b[0m x\u001b[38;5;241m=\u001b[39m\u001b[38;5;241m100\u001b[39m\n\u001b[0;32m      2\u001b[0m z\u001b[38;5;241m=\u001b[39m\u001b[38;5;241m100\u001b[39m\n\u001b[1;32m----> 3\u001b[0m \u001b[38;5;28meval\u001b[39m(\u001b[38;5;124m'\u001b[39m\u001b[38;5;124mx+z\u001b[39m\u001b[38;5;124m'\u001b[39m,{\u001b[38;5;124m'\u001b[39m\u001b[38;5;124mx\u001b[39m\u001b[38;5;124m'\u001b[39m:x})\n",
      "File \u001b[1;32m<string>:1\u001b[0m\n",
      "\u001b[1;31mNameError\u001b[0m: name 'z' is not defined"
     ]
    }
   ],
   "source": [
    "x=100\n",
    "z=100\n",
    "eval('x+z',{'x':x})"
   ]
  },
  {
   "cell_type": "code",
   "execution_count": 40,
   "id": "c568aaef-66ad-40c5-b0ba-1c485463fb4f",
   "metadata": {},
   "outputs": [
    {
     "data": {
      "text/plain": [
       "200"
      ]
     },
     "execution_count": 40,
     "metadata": {},
     "output_type": "execute_result"
    }
   ],
   "source": [
    "eval('x+z',{'x':x,'z':z})"
   ]
  },
  {
   "cell_type": "code",
   "execution_count": 44,
   "id": "c9964632-efaf-4dc4-b43b-289a16425435",
   "metadata": {},
   "outputs": [
    {
     "data": {
      "text/plain": [
       "226"
      ]
     },
     "execution_count": 44,
     "metadata": {},
     "output_type": "execute_result"
    }
   ],
   "source": [
    "eval('x+z+w',{'x':x,'z':z,'w':26})"
   ]
  },
  {
   "cell_type": "code",
   "execution_count": 46,
   "id": "ebaea87a-dfef-4442-be2d-095436fbbd6d",
   "metadata": {},
   "outputs": [
    {
     "data": {
      "text/plain": [
       "200"
      ]
     },
     "execution_count": 46,
     "metadata": {},
     "output_type": "execute_result"
    }
   ],
   "source": [
    "x=100\n",
    "z=100\n",
    "eval('x+z')"
   ]
  },
  {
   "cell_type": "code",
   "execution_count": 50,
   "id": "05bbb167-e106-4061-93c8-c1484517ebe8",
   "metadata": {},
   "outputs": [
    {
     "data": {
      "text/plain": [
       "600"
      ]
     },
     "execution_count": 50,
     "metadata": {},
     "output_type": "execute_result"
    }
   ],
   "source": [
    "eval('a+b+c',{},{'a':100,'b':200,'c':300})"
   ]
  },
  {
   "cell_type": "code",
   "execution_count": 52,
   "id": "24d917bb-8325-4bb6-b47b-dcd2ca295240",
   "metadata": {},
   "outputs": [
    {
     "data": {
      "text/plain": [
       "True"
      ]
     },
     "execution_count": 52,
     "metadata": {},
     "output_type": "execute_result"
    }
   ],
   "source": [
    "a=100\n",
    "b=200\n",
    "eval('a<b')"
   ]
  },
  {
   "cell_type": "code",
   "execution_count": 54,
   "id": "366f867c-cd3b-48ec-bc8c-791771e1b846",
   "metadata": {},
   "outputs": [
    {
     "ename": "NameError",
     "evalue": "name 'x' is not defined",
     "output_type": "error",
     "traceback": [
      "\u001b[1;31m---------------------------------------------------------------------------\u001b[0m",
      "\u001b[1;31mNameError\u001b[0m                                 Traceback (most recent call last)",
      "Cell \u001b[1;32mIn[54], line 3\u001b[0m\n\u001b[0;32m      1\u001b[0m x\u001b[38;5;241m=\u001b[39m\u001b[38;5;241m100\u001b[39m\n\u001b[0;32m      2\u001b[0m y\u001b[38;5;241m=\u001b[39m\u001b[38;5;241m100\u001b[39m\n\u001b[1;32m----> 3\u001b[0m \u001b[38;5;28meval\u001b[39m(\u001b[38;5;124m'\u001b[39m\u001b[38;5;124mx+y\u001b[39m\u001b[38;5;124m'\u001b[39m,{},{})\n",
      "File \u001b[1;32m<string>:1\u001b[0m\n",
      "\u001b[1;31mNameError\u001b[0m: name 'x' is not defined"
     ]
    }
   ],
   "source": [
    "x=100\n",
    "y=100\n",
    "eval('x+y',{},{})"
   ]
  },
  {
   "cell_type": "code",
   "execution_count": null,
   "id": "f968dec7-b076-4890-b318-81c61d981efe",
   "metadata": {},
   "outputs": [],
   "source": []
  }
 ],
 "metadata": {
  "kernelspec": {
   "display_name": "Python 3 (ipykernel)",
   "language": "python",
   "name": "python3"
  },
  "language_info": {
   "codemirror_mode": {
    "name": "ipython",
    "version": 3
   },
   "file_extension": ".py",
   "mimetype": "text/x-python",
   "name": "python",
   "nbconvert_exporter": "python",
   "pygments_lexer": "ipython3",
   "version": "3.11.7"
  }
 },
 "nbformat": 4,
 "nbformat_minor": 5
}

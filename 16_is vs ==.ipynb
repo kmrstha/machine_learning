{
 "cells": [
  {
   "cell_type": "code",
   "execution_count": 1,
   "id": "f7c718cc-a14d-47f5-995c-5a604259c7bd",
   "metadata": {},
   "outputs": [
    {
     "data": {
      "text/plain": [
       "True"
      ]
     },
     "execution_count": 1,
     "metadata": {},
     "output_type": "execute_result"
    }
   ],
   "source": [
    "lst1=['Terry','Lampard','Drogba']\n",
    "lst2=['Terry','Lampard','Drogba']\n",
    "lst1==lst2"
   ]
  },
  {
   "cell_type": "code",
   "execution_count": 3,
   "id": "7675501d-d0cb-4e9f-8c24-0aeb16579e35",
   "metadata": {},
   "outputs": [
    {
     "data": {
      "text/plain": [
       "False"
      ]
     },
     "execution_count": 3,
     "metadata": {},
     "output_type": "execute_result"
    }
   ],
   "source": [
    "lst1 is lst2"
   ]
  },
  {
   "cell_type": "code",
   "execution_count": 7,
   "id": "131de8cf-dfbf-445e-a53d-3276d30d6d1b",
   "metadata": {},
   "outputs": [
    {
     "data": {
      "text/plain": [
       "True"
      ]
     },
     "execution_count": 7,
     "metadata": {},
     "output_type": "execute_result"
    }
   ],
   "source": [
    "lst1=['Terry','Lampard','Drogba']\n",
    "lst2=lst1\n",
    "lst1 is lst2"
   ]
  },
  {
   "cell_type": "code",
   "execution_count": 9,
   "id": "a4fa8c05-ca31-4c64-bffd-72c0beaf3b1d",
   "metadata": {},
   "outputs": [
    {
     "data": {
      "text/plain": [
       "True"
      ]
     },
     "execution_count": 9,
     "metadata": {},
     "output_type": "execute_result"
    }
   ],
   "source": [
    "lst2 is lst1"
   ]
  },
  {
   "cell_type": "code",
   "execution_count": 13,
   "id": "bd015c56-459a-4465-9821-2f2ff319e79f",
   "metadata": {},
   "outputs": [],
   "source": [
    "lst2[0]='Hazard'"
   ]
  },
  {
   "cell_type": "code",
   "execution_count": 15,
   "id": "f1fd55c8-871b-49ee-a957-8cc6ebddb88e",
   "metadata": {},
   "outputs": [
    {
     "data": {
      "text/plain": [
       "['Hazard', 'Lampard', 'Drogba']"
      ]
     },
     "execution_count": 15,
     "metadata": {},
     "output_type": "execute_result"
    }
   ],
   "source": [
    "lst2"
   ]
  },
  {
   "cell_type": "code",
   "execution_count": 17,
   "id": "29ab5b1f-0b38-4e73-b919-8c56a551ec25",
   "metadata": {},
   "outputs": [
    {
     "data": {
      "text/plain": [
       "['Hazard', 'Lampard', 'Drogba']"
      ]
     },
     "execution_count": 17,
     "metadata": {},
     "output_type": "execute_result"
    }
   ],
   "source": [
    "lst1"
   ]
  },
  {
   "cell_type": "code",
   "execution_count": null,
   "id": "1dce0d5e-4b7c-42f7-93d3-cacd3615ff39",
   "metadata": {},
   "outputs": [],
   "source": []
  }
 ],
 "metadata": {
  "kernelspec": {
   "display_name": "Python 3 (ipykernel)",
   "language": "python",
   "name": "python3"
  },
  "language_info": {
   "codemirror_mode": {
    "name": "ipython",
    "version": 3
   },
   "file_extension": ".py",
   "mimetype": "text/x-python",
   "name": "python",
   "nbconvert_exporter": "python",
   "pygments_lexer": "ipython3",
   "version": "3.11.7"
  }
 },
 "nbformat": 4,
 "nbformat_minor": 5
}

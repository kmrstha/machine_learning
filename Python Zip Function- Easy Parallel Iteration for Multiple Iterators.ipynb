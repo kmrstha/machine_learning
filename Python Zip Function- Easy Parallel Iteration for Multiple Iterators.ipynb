{
 "cells": [
  {
   "cell_type": "markdown",
   "id": "e0c2eb48-f3dc-4b35-a08f-0551c988fe81",
   "metadata": {},
   "source": [
    "- we are able to iterate through multiple iterable\n",
    "- it is an iterable so we can use for, next to iterate through elements of it\n",
    "- it is used for data preprocessing feature engineering because it helps us to do parallel through multiple iterators"
   ]
  },
  {
   "cell_type": "code",
   "execution_count": null,
   "id": "c9266864-7f48-4dae-8af0-df2b03e6e994",
   "metadata": {},
   "outputs": [],
   "source": [
    "lst1=['Terry','Drogba','Cole']\n",
    "lst2=['Lampard','Hazard','Palmer']"
   ]
  },
  {
   "cell_type": "code",
   "execution_count": 25,
   "id": "382d869f-2b5b-4b1c-983c-68362757a4e6",
   "metadata": {},
   "outputs": [],
   "source": [
    "output=zip(lst1,lst2)"
   ]
  },
  {
   "cell_type": "code",
   "execution_count": 27,
   "id": "53f99d5e-0375-438e-b437-8a09f76523d9",
   "metadata": {},
   "outputs": [
    {
     "data": {
      "text/plain": [
       "<zip at 0x24a84755a00>"
      ]
     },
     "execution_count": 27,
     "metadata": {},
     "output_type": "execute_result"
    }
   ],
   "source": [
    "output"
   ]
  },
  {
   "cell_type": "code",
   "execution_count": 7,
   "id": "d72bb82f-2783-48da-98bd-ef4453e48a83",
   "metadata": {},
   "outputs": [
    {
     "data": {
      "text/plain": [
       "[('Terry', 'Lampard'), ('Drogba', 'Hazard'), ('Cole', 'Palmer')]"
      ]
     },
     "execution_count": 7,
     "metadata": {},
     "output_type": "execute_result"
    }
   ],
   "source": [
    "list(output)"
   ]
  },
  {
   "cell_type": "code",
   "execution_count": 17,
   "id": "c38521e1-0870-4224-bb29-a2a4ec515c6e",
   "metadata": {},
   "outputs": [
    {
     "data": {
      "text/plain": [
       "('Terry', 'Lampard')"
      ]
     },
     "execution_count": 17,
     "metadata": {},
     "output_type": "execute_result"
    }
   ],
   "source": [
    "# zip object is an iterator\n",
    "next(output)"
   ]
  },
  {
   "cell_type": "code",
   "execution_count": 29,
   "id": "b8e7ea4e-76c3-44c7-8757-22df15fc9a63",
   "metadata": {},
   "outputs": [
    {
     "name": "stdout",
     "output_type": "stream",
     "text": [
      "Terry Lampard\n",
      "Drogba Hazard\n",
      "Cole Palmer\n"
     ]
    }
   ],
   "source": [
    "for i,j in output:\n",
    "    print(i,j)"
   ]
  },
  {
   "cell_type": "code",
   "execution_count": 31,
   "id": "63628669-2dc8-46de-994c-ce760912f059",
   "metadata": {},
   "outputs": [],
   "source": [
    "lst1=['Terry','Drogba','Cole']\n",
    "lst2=['Lampard','Hazard','Palmer']\n",
    "lst3=['Kante', 'Azpilicueta','Cech']"
   ]
  },
  {
   "cell_type": "code",
   "execution_count": 33,
   "id": "b5105d01-0f3d-47bf-844c-f8893cdf9d8c",
   "metadata": {},
   "outputs": [
    {
     "name": "stdout",
     "output_type": "stream",
     "text": [
      "Terry Lampard Kante\n",
      "Drogba Hazard Azpilicueta\n",
      "Cole Palmer Cech\n"
     ]
    }
   ],
   "source": [
    "output=zip(lst1,lst2,lst3)\n",
    "for i,j,k in output:\n",
    "    print(i,j,k)"
   ]
  },
  {
   "cell_type": "code",
   "execution_count": 35,
   "id": "a32ade15-216e-4f9c-8c1e-0c7d5f857d28",
   "metadata": {},
   "outputs": [
    {
     "data": {
      "text/plain": [
       "[]"
      ]
     },
     "execution_count": 35,
     "metadata": {},
     "output_type": "execute_result"
    }
   ],
   "source": [
    "list(zip())"
   ]
  },
  {
   "cell_type": "code",
   "execution_count": 49,
   "id": "d0a187c8-e6b6-4326-984f-db903853369f",
   "metadata": {},
   "outputs": [],
   "source": [
    "dict1={'name':'Cole','lst_name':'Palmer','age':22}\n",
    "dict2={'name':'Enzo','lst_name':'Fernandez','age':21}"
   ]
  },
  {
   "cell_type": "code",
   "execution_count": 51,
   "id": "b885192e-769c-42d1-bc0a-7084b6d167a2",
   "metadata": {},
   "outputs": [],
   "source": [
    "dictionary=zip(dict1.items(),dict2.items())"
   ]
  },
  {
   "cell_type": "code",
   "execution_count": 57,
   "id": "022a389b-437d-4569-84ec-455d64d137fd",
   "metadata": {},
   "outputs": [
    {
     "data": {
      "text/plain": [
       "{'name': 'Cole', 'lst_name': 'Palmer', 'age': 22}"
      ]
     },
     "execution_count": 57,
     "metadata": {},
     "output_type": "execute_result"
    }
   ],
   "source": [
    "dict1"
   ]
  },
  {
   "cell_type": "code",
   "execution_count": 53,
   "id": "7419a2bd-3439-4c45-94c0-6fcc1b08a565",
   "metadata": {},
   "outputs": [
    {
     "name": "stdout",
     "output_type": "stream",
     "text": [
      "name Cole\n",
      "name Enzo\n",
      "lst_name Palmer\n",
      "lst_name Fernandez\n",
      "age 22\n",
      "age 21\n"
     ]
    }
   ],
   "source": [
    "for (i,j),(i2,j2) in dictionary:\n",
    "    print(i,j)\n",
    "    print(i2,j2)"
   ]
  },
  {
   "cell_type": "code",
   "execution_count": null,
   "id": "5cd97788-467c-4ca7-a578-47de537cdc38",
   "metadata": {},
   "outputs": [],
   "source": []
  }
 ],
 "metadata": {
  "kernelspec": {
   "display_name": "Python 3 (ipykernel)",
   "language": "python",
   "name": "python3"
  },
  "language_info": {
   "codemirror_mode": {
    "name": "ipython",
    "version": 3
   },
   "file_extension": ".py",
   "mimetype": "text/x-python",
   "name": "python",
   "nbconvert_exporter": "python",
   "pygments_lexer": "ipython3",
   "version": "3.11.7"
  }
 },
 "nbformat": 4,
 "nbformat_minor": 5
}

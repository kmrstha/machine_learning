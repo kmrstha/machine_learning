{
 "cells": [
  {
   "cell_type": "code",
   "execution_count": 1,
   "id": "8b33158a-c43f-4c00-8b42-8c1da76b3209",
   "metadata": {},
   "outputs": [],
   "source": [
    "# =, copy(), deepcopy()\n",
    "lst1=[1,2,3,4]\n",
    "lst2=lst1"
   ]
  },
  {
   "cell_type": "code",
   "execution_count": 3,
   "id": "f7ffb3a1-ee08-4718-aab9-c1595f98d78c",
   "metadata": {},
   "outputs": [
    {
     "data": {
      "text/plain": [
       "[1, 2, 3, 4]"
      ]
     },
     "execution_count": 3,
     "metadata": {},
     "output_type": "execute_result"
    }
   ],
   "source": [
    "lst1"
   ]
  },
  {
   "cell_type": "code",
   "execution_count": 4,
   "id": "7e3f9e24-6189-48ac-bc8f-a7bce42abd83",
   "metadata": {},
   "outputs": [
    {
     "data": {
      "text/plain": [
       "[1, 2, 3, 4]"
      ]
     },
     "execution_count": 4,
     "metadata": {},
     "output_type": "execute_result"
    }
   ],
   "source": [
    "lst2"
   ]
  },
  {
   "cell_type": "code",
   "execution_count": 7,
   "id": "27ae6717-9363-44eb-b379-432a4caa5fde",
   "metadata": {},
   "outputs": [],
   "source": [
    "lst2[1]=8"
   ]
  },
  {
   "cell_type": "code",
   "execution_count": 9,
   "id": "1e737129-c208-4441-855b-d96df503bf06",
   "metadata": {},
   "outputs": [
    {
     "data": {
      "text/plain": [
       "[1, 8, 3, 4]"
      ]
     },
     "execution_count": 9,
     "metadata": {},
     "output_type": "execute_result"
    }
   ],
   "source": [
    "lst2"
   ]
  },
  {
   "cell_type": "code",
   "execution_count": 11,
   "id": "27b4d468-e91c-4e6c-b273-05d7f9381ea4",
   "metadata": {},
   "outputs": [
    {
     "data": {
      "text/plain": [
       "[1, 8, 3, 4]"
      ]
     },
     "execution_count": 11,
     "metadata": {},
     "output_type": "execute_result"
    }
   ],
   "source": [
    "lst1"
   ]
  },
  {
   "cell_type": "markdown",
   "id": "e0b70df4-7cf8-48d1-b388-0ee0510559d0",
   "metadata": {},
   "source": [
    "## copy"
   ]
  },
  {
   "cell_type": "code",
   "execution_count": 18,
   "id": "62eadc6e-7894-45f8-8724-f2bde7224681",
   "metadata": {},
   "outputs": [],
   "source": [
    "# shallow copy\n",
    "lst1=[1,2,3,4]\n",
    "lst2=lst1.copy()"
   ]
  },
  {
   "cell_type": "code",
   "execution_count": 20,
   "id": "34b4e33e-27d9-4f71-9fe5-0f87245a8524",
   "metadata": {},
   "outputs": [
    {
     "data": {
      "text/plain": [
       "[1, 2, 3, 4]"
      ]
     },
     "execution_count": 20,
     "metadata": {},
     "output_type": "execute_result"
    }
   ],
   "source": [
    "lst2"
   ]
  },
  {
   "cell_type": "code",
   "execution_count": 22,
   "id": "51004039-c637-40e4-960d-88bed66a8f37",
   "metadata": {},
   "outputs": [],
   "source": [
    "lst2[1]=9"
   ]
  },
  {
   "cell_type": "code",
   "execution_count": 28,
   "id": "a69970f3-925e-4af2-abc7-72b382ab2515",
   "metadata": {},
   "outputs": [
    {
     "data": {
      "text/plain": [
       "([1, 9, 3, 4], [1, 2, 3, 4])"
      ]
     },
     "execution_count": 28,
     "metadata": {},
     "output_type": "execute_result"
    }
   ],
   "source": [
    "lst2, lst1"
   ]
  },
  {
   "cell_type": "code",
   "execution_count": 35,
   "id": "df014c97-ab1a-4e24-ad2a-871423cc7c4b",
   "metadata": {},
   "outputs": [],
   "source": [
    "# shallow copy nested list\n",
    "lst1=[[1,2,3,4],[5,6,7,8]]\n",
    "lst2=lst1.copy()"
   ]
  },
  {
   "cell_type": "code",
   "execution_count": 37,
   "id": "32946feb-f634-4af5-bc3f-fca193defbbb",
   "metadata": {},
   "outputs": [
    {
     "data": {
      "text/plain": [
       "[[1, 2, 3, 4], [5, 6, 7, 8]]"
      ]
     },
     "execution_count": 37,
     "metadata": {},
     "output_type": "execute_result"
    }
   ],
   "source": [
    "lst1"
   ]
  },
  {
   "cell_type": "code",
   "execution_count": 39,
   "id": "1d668081-8632-4ca9-a44e-63171e839d06",
   "metadata": {},
   "outputs": [
    {
     "data": {
      "text/plain": [
       "[[1, 2, 3, 4], [5, 6, 7, 8]]"
      ]
     },
     "execution_count": 39,
     "metadata": {},
     "output_type": "execute_result"
    }
   ],
   "source": [
    "lst2"
   ]
  },
  {
   "cell_type": "code",
   "execution_count": 41,
   "id": "f94e88ca-7c58-4b1a-8042-ce3107ef2bfc",
   "metadata": {},
   "outputs": [
    {
     "data": {
      "text/plain": [
       "5"
      ]
     },
     "execution_count": 41,
     "metadata": {},
     "output_type": "execute_result"
    }
   ],
   "source": [
    "lst1[1][0]"
   ]
  },
  {
   "cell_type": "code",
   "execution_count": 45,
   "id": "248ddbe0-e684-4451-9de8-83f2214a1362",
   "metadata": {},
   "outputs": [],
   "source": [
    "lst1[1][0]=10"
   ]
  },
  {
   "cell_type": "code",
   "execution_count": 47,
   "id": "e69c1776-919e-4b02-ab68-cf515cc3d6cb",
   "metadata": {},
   "outputs": [
    {
     "data": {
      "text/plain": [
       "[[1, 2, 3, 4], [10, 6, 7, 8]]"
      ]
     },
     "execution_count": 47,
     "metadata": {},
     "output_type": "execute_result"
    }
   ],
   "source": [
    "lst1"
   ]
  },
  {
   "cell_type": "code",
   "execution_count": 49,
   "id": "650d5fb3-79cb-40e4-a3ef-e5bc159b3da5",
   "metadata": {},
   "outputs": [
    {
     "data": {
      "text/plain": [
       "[[1, 2, 3, 4], [10, 6, 7, 8]]"
      ]
     },
     "execution_count": 49,
     "metadata": {},
     "output_type": "execute_result"
    }
   ],
   "source": [
    "lst2"
   ]
  },
  {
   "cell_type": "code",
   "execution_count": 51,
   "id": "7d3f5e1b-15ae-4f53-9d49-7a173cb510e2",
   "metadata": {},
   "outputs": [],
   "source": [
    "lst1.append([2,3,4,5])"
   ]
  },
  {
   "cell_type": "code",
   "execution_count": 53,
   "id": "89cf6b25-571f-476e-a4ba-400b7b858a68",
   "metadata": {},
   "outputs": [
    {
     "data": {
      "text/plain": [
       "[[1, 2, 3, 4], [10, 6, 7, 8], [2, 3, 4, 5]]"
      ]
     },
     "execution_count": 53,
     "metadata": {},
     "output_type": "execute_result"
    }
   ],
   "source": [
    "lst1"
   ]
  },
  {
   "cell_type": "code",
   "execution_count": 55,
   "id": "38af6eb8-0b22-4212-b6c1-8a042ac5e6a6",
   "metadata": {},
   "outputs": [
    {
     "data": {
      "text/plain": [
       "[[1, 2, 3, 4], [10, 6, 7, 8]]"
      ]
     },
     "execution_count": 55,
     "metadata": {},
     "output_type": "execute_result"
    }
   ],
   "source": [
    "lst2"
   ]
  },
  {
   "cell_type": "markdown",
   "id": "f64edd13-09c7-4309-a161-777b97399919",
   "metadata": {},
   "source": [
    "## Deep copy"
   ]
  },
  {
   "cell_type": "code",
   "execution_count": 58,
   "id": "a37f9419-616f-4cb4-ac25-be18a4eaf6b8",
   "metadata": {},
   "outputs": [],
   "source": [
    "import copy\n",
    "lst1=[1,2,3,4]\n",
    "lst2=copy.deepcopy(lst1)"
   ]
  },
  {
   "cell_type": "code",
   "execution_count": 60,
   "id": "492a8ddb-b0db-489e-9ea3-818cc19e1d72",
   "metadata": {},
   "outputs": [
    {
     "data": {
      "text/plain": [
       "[1, 2, 3, 4]"
      ]
     },
     "execution_count": 60,
     "metadata": {},
     "output_type": "execute_result"
    }
   ],
   "source": [
    "lst2"
   ]
  },
  {
   "cell_type": "code",
   "execution_count": 62,
   "id": "848d8d14-edde-4893-aa3b-c2f5ba873304",
   "metadata": {},
   "outputs": [],
   "source": [
    "lst2[1]=9"
   ]
  },
  {
   "cell_type": "code",
   "execution_count": 64,
   "id": "88e0ac0c-b2c6-4d84-85e2-51c6acedeeea",
   "metadata": {},
   "outputs": [
    {
     "data": {
      "text/plain": [
       "[1, 9, 3, 4]"
      ]
     },
     "execution_count": 64,
     "metadata": {},
     "output_type": "execute_result"
    }
   ],
   "source": [
    "lst2"
   ]
  },
  {
   "cell_type": "code",
   "execution_count": 66,
   "id": "e366d06f-26f7-44cb-8ad8-f115f8403d00",
   "metadata": {},
   "outputs": [
    {
     "data": {
      "text/plain": [
       "[1, 2, 3, 4]"
      ]
     },
     "execution_count": 66,
     "metadata": {},
     "output_type": "execute_result"
    }
   ],
   "source": [
    "lst1"
   ]
  },
  {
   "cell_type": "code",
   "execution_count": 68,
   "id": "ea798197-3549-4a39-aa82-020486ca5c0a",
   "metadata": {},
   "outputs": [],
   "source": [
    "# In a normal list shallow === deep copy"
   ]
  },
  {
   "cell_type": "code",
   "execution_count": 70,
   "id": "e2c0cffc-714c-4efa-9bb3-802749b9c6c2",
   "metadata": {},
   "outputs": [],
   "source": [
    "lst1=[[1,2,3],[3,4,5],[5,6,7]]\n",
    "lst2=copy.deepcopy(lst1)"
   ]
  },
  {
   "cell_type": "code",
   "execution_count": 72,
   "id": "6e31fd4b-534b-4b82-b630-5c8ec8f1927d",
   "metadata": {},
   "outputs": [
    {
     "data": {
      "text/plain": [
       "[[1, 2, 3], [3, 4, 5], [5, 6, 7]]"
      ]
     },
     "execution_count": 72,
     "metadata": {},
     "output_type": "execute_result"
    }
   ],
   "source": [
    "lst2"
   ]
  },
  {
   "cell_type": "code",
   "execution_count": 74,
   "id": "641f491a-d439-4cb6-b9e6-929d75882589",
   "metadata": {},
   "outputs": [],
   "source": [
    "lst2[1][0]=17"
   ]
  },
  {
   "cell_type": "code",
   "execution_count": 76,
   "id": "38b9373b-b668-4ec0-a9c6-222bfa360db2",
   "metadata": {},
   "outputs": [
    {
     "data": {
      "text/plain": [
       "[[1, 2, 3], [17, 4, 5], [5, 6, 7]]"
      ]
     },
     "execution_count": 76,
     "metadata": {},
     "output_type": "execute_result"
    }
   ],
   "source": [
    "lst2"
   ]
  },
  {
   "cell_type": "code",
   "execution_count": 78,
   "id": "3342f558-bc7b-49e9-a13b-9355482a439a",
   "metadata": {},
   "outputs": [
    {
     "data": {
      "text/plain": [
       "[[1, 2, 3], [3, 4, 5], [5, 6, 7]]"
      ]
     },
     "execution_count": 78,
     "metadata": {},
     "output_type": "execute_result"
    }
   ],
   "source": [
    "lst1"
   ]
  },
  {
   "cell_type": "code",
   "execution_count": 80,
   "id": "15eb24d2-3f8b-4e8f-a659-0e2e2cb0afb8",
   "metadata": {},
   "outputs": [],
   "source": [
    "#shallow copy\n",
    "lst3=lst1.copy()"
   ]
  },
  {
   "cell_type": "code",
   "execution_count": 84,
   "id": "8f2059f6-32c3-4e29-9f5e-41d14e33da47",
   "metadata": {},
   "outputs": [],
   "source": [
    "lst3[1][0]=17"
   ]
  },
  {
   "cell_type": "code",
   "execution_count": 86,
   "id": "24aa4fc0-73da-47f7-b4fa-6459b43e6bea",
   "metadata": {},
   "outputs": [
    {
     "data": {
      "text/plain": [
       "[[1, 2, 3], [17, 4, 5], [5, 6, 7]]"
      ]
     },
     "execution_count": 86,
     "metadata": {},
     "output_type": "execute_result"
    }
   ],
   "source": [
    "lst3"
   ]
  },
  {
   "cell_type": "code",
   "execution_count": 88,
   "id": "8bb154aa-8929-49d1-85e7-bdd30254fced",
   "metadata": {},
   "outputs": [
    {
     "data": {
      "text/plain": [
       "[[1, 2, 3], [17, 4, 5], [5, 6, 7]]"
      ]
     },
     "execution_count": 88,
     "metadata": {},
     "output_type": "execute_result"
    }
   ],
   "source": [
    "lst1"
   ]
  },
  {
   "cell_type": "code",
   "execution_count": null,
   "id": "f6517c6a-f1be-4be8-a1e2-24e60b7b0f24",
   "metadata": {},
   "outputs": [],
   "source": []
  }
 ],
 "metadata": {
  "kernelspec": {
   "display_name": "Python 3 (ipykernel)",
   "language": "python",
   "name": "python3"
  },
  "language_info": {
   "codemirror_mode": {
    "name": "ipython",
    "version": 3
   },
   "file_extension": ".py",
   "mimetype": "text/x-python",
   "name": "python",
   "nbconvert_exporter": "python",
   "pygments_lexer": "ipython3",
   "version": "3.11.7"
  }
 },
 "nbformat": 4,
 "nbformat_minor": 5
}

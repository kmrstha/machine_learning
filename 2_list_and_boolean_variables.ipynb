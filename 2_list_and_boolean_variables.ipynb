{
 "cells": [
  {
   "cell_type": "markdown",
   "id": "07d8589f-9728-423d-b901-71875bfdb3f2",
   "metadata": {},
   "source": [
    "# Python Data Structures and Boolean\n",
    "\n",
    "- Boolean\n",
    "- Boolean and Logica Operators\n",
    "- Lists\n",
    "- Comparison operators\n",
    "- Dictionaries\n",
    "- Tuples\n",
    "- Sets"
   ]
  },
  {
   "cell_type": "markdown",
   "id": "76bd737f-c842-4ce2-baf7-68b463df2625",
   "metadata": {},
   "source": [
    "## Boolean Variables"
   ]
  },
  {
   "cell_type": "code",
   "execution_count": 3,
   "id": "36e03b00-52b5-40cf-b37b-855e50e21078",
   "metadata": {},
   "outputs": [
    {
     "data": {
      "text/plain": [
       "False"
      ]
     },
     "execution_count": 3,
     "metadata": {},
     "output_type": "execute_result"
    }
   ],
   "source": [
    "bool()"
   ]
  },
  {
   "cell_type": "code",
   "execution_count": 7,
   "id": "7599b505-1955-49b7-a525-92b1cab29b4e",
   "metadata": {},
   "outputs": [
    {
     "name": "stdout",
     "output_type": "stream",
     "text": [
      "True False\n"
     ]
    }
   ],
   "source": [
    "print (True, False)"
   ]
  },
  {
   "cell_type": "code",
   "execution_count": 9,
   "id": "08325ac6-73fe-4241-9a43-194632049e0c",
   "metadata": {},
   "outputs": [
    {
     "data": {
      "text/plain": [
       "bool"
      ]
     },
     "execution_count": 9,
     "metadata": {},
     "output_type": "execute_result"
    }
   ],
   "source": [
    "type (True)"
   ]
  },
  {
   "cell_type": "code",
   "execution_count": 11,
   "id": "cc97d7da-3fa7-4387-9340-e875b6ad3da6",
   "metadata": {},
   "outputs": [],
   "source": [
    "my_str = 'Hello World'"
   ]
  },
  {
   "cell_type": "code",
   "execution_count": 13,
   "id": "4d4cdf90-fc23-4232-ba2a-d1bb996eac97",
   "metadata": {},
   "outputs": [
    {
     "name": "stdout",
     "output_type": "stream",
     "text": [
      "False\n",
      "False\n",
      "False\n",
      "True\n",
      "False\n",
      "False\n",
      "False\n",
      "True\n",
      "True\n"
     ]
    }
   ],
   "source": [
    "print(my_str.isalnum()) # Check if all char are numbers\n",
    "print(my_str.isalpha()) # Check if all char in the string are alphabetic\n",
    "print(my_str.isdigit()) # test if string contains digits\n",
    "print(my_str.istitle()) # test if string contains title words\n",
    "print(my_str.isupper()) # test if string contains upper case\n",
    "print(my_str.islower()) # test if string contains lower case\n",
    "print(my_str.isspace()) # test if sting contains spaces\n",
    "print(my_str.endswith('d')) # test if string ends with a d\n",
    "print(my_str.startswith('H')) # test if string starts with H"
   ]
  },
  {
   "cell_type": "markdown",
   "id": "3b8670c7-d9ea-43ab-bf96-45de77e659b5",
   "metadata": {},
   "source": [
    "## Boolean and Logical Operators"
   ]
  },
  {
   "cell_type": "code",
   "execution_count": 17,
   "id": "10f807a7-c80c-436f-8793-90e46156634c",
   "metadata": {},
   "outputs": [
    {
     "data": {
      "text/plain": [
       "True"
      ]
     },
     "execution_count": 17,
     "metadata": {},
     "output_type": "execute_result"
    }
   ],
   "source": [
    "True and True"
   ]
  },
  {
   "cell_type": "code",
   "execution_count": 19,
   "id": "607d21e0-22bd-4165-9b51-dd0be20f226f",
   "metadata": {},
   "outputs": [
    {
     "data": {
      "text/plain": [
       "False"
      ]
     },
     "execution_count": 19,
     "metadata": {},
     "output_type": "execute_result"
    }
   ],
   "source": [
    "True and False"
   ]
  },
  {
   "cell_type": "code",
   "execution_count": 21,
   "id": "a8eb8475-432c-4d5b-a01d-5266d76b3f28",
   "metadata": {},
   "outputs": [
    {
     "data": {
      "text/plain": [
       "True"
      ]
     },
     "execution_count": 21,
     "metadata": {},
     "output_type": "execute_result"
    }
   ],
   "source": [
    "True or False"
   ]
  },
  {
   "cell_type": "code",
   "execution_count": 23,
   "id": "6ae4d53c-7f41-418c-b0a2-8fafd72e65d3",
   "metadata": {},
   "outputs": [
    {
     "data": {
      "text/plain": [
       "True"
      ]
     },
     "execution_count": 23,
     "metadata": {},
     "output_type": "execute_result"
    }
   ],
   "source": [
    "True or True"
   ]
  },
  {
   "cell_type": "code",
   "execution_count": 25,
   "id": "bc9ec928-88c1-4ed0-9abe-23aac96026d7",
   "metadata": {},
   "outputs": [],
   "source": [
    "str_example = \"Hello World\"\n",
    "my_str = 'Kumar'"
   ]
  },
  {
   "cell_type": "code",
   "execution_count": 29,
   "id": "b84cb6aa-9d82-4ee9-a1fc-db980b566b64",
   "metadata": {},
   "outputs": [
    {
     "data": {
      "text/plain": [
       "True"
      ]
     },
     "execution_count": 29,
     "metadata": {},
     "output_type": "execute_result"
    }
   ],
   "source": [
    "my_str.isalpha()"
   ]
  },
  {
   "cell_type": "code",
   "execution_count": 27,
   "id": "12edd934-b7de-4968-8c11-5fe5802d0772",
   "metadata": {},
   "outputs": [
    {
     "data": {
      "text/plain": [
       "True"
      ]
     },
     "execution_count": 27,
     "metadata": {},
     "output_type": "execute_result"
    }
   ],
   "source": [
    "my_str.isalpha() or str_example.isnum()"
   ]
  },
  {
   "cell_type": "markdown",
   "id": "32d0f438-f0fe-44b3-b2f1-e5708705df14",
   "metadata": {},
   "source": [
    "## Lists"
   ]
  },
  {
   "cell_type": "code",
   "execution_count": 32,
   "id": "25bc8228-1ea1-43fd-87d3-9d2cf0e80cbc",
   "metadata": {},
   "outputs": [],
   "source": [
    "lst_example = []"
   ]
  },
  {
   "cell_type": "markdown",
   "id": "1485dab7-7cb2-4df9-b490-593e6ca0ec3f",
   "metadata": {},
   "source": [
    "type(lst_example)"
   ]
  },
  {
   "cell_type": "code",
   "execution_count": 36,
   "id": "5e47fac2-9b77-4167-a503-e62d0f53f5f6",
   "metadata": {},
   "outputs": [],
   "source": [
    "lst = list()"
   ]
  },
  {
   "cell_type": "code",
   "execution_count": 38,
   "id": "5a5f2ac3-6eb5-4fdc-9ff1-2eef452573ec",
   "metadata": {},
   "outputs": [
    {
     "data": {
      "text/plain": [
       "list"
      ]
     },
     "execution_count": 38,
     "metadata": {},
     "output_type": "execute_result"
    }
   ],
   "source": [
    "type(lst)"
   ]
  },
  {
   "cell_type": "code",
   "execution_count": 40,
   "id": "b9a1b528-269f-4c18-bcb9-0b7777f3419b",
   "metadata": {},
   "outputs": [],
   "source": [
    "lst = ['Math', 'Account', 12, 10, 26]"
   ]
  },
  {
   "cell_type": "code",
   "execution_count": 42,
   "id": "d22584f8-7394-4dd3-ae41-f737fbb201a3",
   "metadata": {},
   "outputs": [
    {
     "data": {
      "text/plain": [
       "5"
      ]
     },
     "execution_count": 42,
     "metadata": {},
     "output_type": "execute_result"
    }
   ],
   "source": [
    "len(lst)"
   ]
  },
  {
   "cell_type": "code",
   "execution_count": 44,
   "id": "6671f0a8-284e-4463-af79-467eefab4982",
   "metadata": {},
   "outputs": [
    {
     "data": {
      "text/plain": [
       "list"
      ]
     },
     "execution_count": 44,
     "metadata": {},
     "output_type": "execute_result"
    }
   ],
   "source": [
    "type(lst)"
   ]
  },
  {
   "cell_type": "markdown",
   "id": "ad84888c-e813-49cb-9e19-6f429c062ac9",
   "metadata": {},
   "source": [
    "# Append"
   ]
  },
  {
   "cell_type": "code",
   "execution_count": 50,
   "id": "5b81fc40-3ccf-4a7b-9909-ddb70cf6c398",
   "metadata": {},
   "outputs": [],
   "source": [
    "# .append is used to add elements in the list\n",
    "lst.append('Hello')"
   ]
  },
  {
   "cell_type": "code",
   "execution_count": 62,
   "id": "480f146a-f051-4579-92d1-094e457ed026",
   "metadata": {},
   "outputs": [],
   "source": [
    "lst.append([4,9])"
   ]
  },
  {
   "cell_type": "code",
   "execution_count": 64,
   "id": "a29d5993-4cdf-4cf4-b211-555fda9f750a",
   "metadata": {},
   "outputs": [
    {
     "data": {
      "text/plain": [
       "['Math', 'Account', 12, 10, 26, 'Hello', [4, 9]]"
      ]
     },
     "execution_count": 64,
     "metadata": {},
     "output_type": "execute_result"
    }
   ],
   "source": [
    "lst"
   ]
  },
  {
   "cell_type": "code",
   "execution_count": 65,
   "id": "b027cfed-7cf7-4e2b-acf6-e47e3a2ef57f",
   "metadata": {},
   "outputs": [
    {
     "data": {
      "text/plain": [
       "12"
      ]
     },
     "execution_count": 65,
     "metadata": {},
     "output_type": "execute_result"
    }
   ],
   "source": [
    "# Indexing in a list\n",
    "lst[2]"
   ]
  },
  {
   "cell_type": "code",
   "execution_count": 68,
   "id": "0936ff44-33cd-483a-87ff-dd4875329983",
   "metadata": {},
   "outputs": [
    {
     "data": {
      "text/plain": [
       "['Account', 12, 10, 26, 'Hello', [4, 9]]"
      ]
     },
     "execution_count": 68,
     "metadata": {},
     "output_type": "execute_result"
    }
   ],
   "source": [
    "lst[1:]"
   ]
  },
  {
   "cell_type": "code",
   "execution_count": 73,
   "id": "9c989155-f5ea-4303-ab64-4483fdcd606c",
   "metadata": {},
   "outputs": [
    {
     "data": {
      "text/plain": [
       "['Account', 12, 10, 26]"
      ]
     },
     "execution_count": 73,
     "metadata": {},
     "output_type": "execute_result"
    }
   ],
   "source": [
    " lst[1:5]"
   ]
  },
  {
   "cell_type": "markdown",
   "id": "1aed6c2a-8735-4424-8c7d-9b689f133f7b",
   "metadata": {},
   "source": [
    "# Insert"
   ]
  },
  {
   "cell_type": "code",
   "execution_count": 76,
   "id": "9b07224a-f0c9-435f-bcc8-42f7449910f1",
   "metadata": {},
   "outputs": [],
   "source": [
    "# Insert in a specific order\n",
    "lst.insert(2, 'World')"
   ]
  },
  {
   "cell_type": "code",
   "execution_count": 78,
   "id": "fbe4677d-e5a8-41a6-9463-8a4b70bf70c8",
   "metadata": {},
   "outputs": [
    {
     "data": {
      "text/plain": [
       "['Math', 'Account', 'World', 12, 10, 26, 'Hello', [4, 9]]"
      ]
     },
     "execution_count": 78,
     "metadata": {},
     "output_type": "execute_result"
    }
   ],
   "source": [
    "lst"
   ]
  },
  {
   "cell_type": "markdown",
   "id": "e5b2a3fb-9188-4871-a99a-b8fcf4360484",
   "metadata": {},
   "source": [
    "# Extend Method"
   ]
  },
  {
   "cell_type": "code",
   "execution_count": 81,
   "id": "e2dd68c1-a966-4949-9ef0-0e301c07b5ea",
   "metadata": {},
   "outputs": [],
   "source": [
    "lst = [1,2,3,4,5,6]"
   ]
  },
  {
   "cell_type": "code",
   "execution_count": 84,
   "id": "aa2f99ad-85a0-4d2c-b574-64e0045eb768",
   "metadata": {},
   "outputs": [],
   "source": [
    "lst.extend([8,9])"
   ]
  },
  {
   "cell_type": "code",
   "execution_count": 86,
   "id": "f0042136-154a-4361-8855-5d30dd3a513d",
   "metadata": {},
   "outputs": [
    {
     "data": {
      "text/plain": [
       "[1, 2, 3, 4, 5, 6, 8, 9]"
      ]
     },
     "execution_count": 86,
     "metadata": {},
     "output_type": "execute_result"
    }
   ],
   "source": [
    "lst"
   ]
  },
  {
   "cell_type": "markdown",
   "id": "05f02a71-3034-4111-80c1-807094c35b49",
   "metadata": {},
   "source": [
    "# Various Operations that we can perform in List"
   ]
  },
  {
   "cell_type": "code",
   "execution_count": 119,
   "id": "2d534452-3076-4591-aa22-a94f0d13b529",
   "metadata": {},
   "outputs": [],
   "source": [
    "lst = [1,2,3,4,5]"
   ]
  },
  {
   "cell_type": "code",
   "execution_count": 121,
   "id": "c9d90845-8f61-4790-be6a-80a7c81fa130",
   "metadata": {},
   "outputs": [
    {
     "data": {
      "text/plain": [
       "15"
      ]
     },
     "execution_count": 121,
     "metadata": {},
     "output_type": "execute_result"
    }
   ],
   "source": [
    "sum(lst)"
   ]
  },
  {
   "cell_type": "code",
   "execution_count": 123,
   "id": "916cd40a-d0dd-4971-bb54-9ccb73b50044",
   "metadata": {},
   "outputs": [
    {
     "data": {
      "text/plain": [
       "[1, 2, 3, 4, 5, 1, 2, 3, 4, 5]"
      ]
     },
     "execution_count": 123,
     "metadata": {},
     "output_type": "execute_result"
    }
   ],
   "source": [
    "lst*2"
   ]
  },
  {
   "cell_type": "markdown",
   "id": "a5ffd22f-2df3-4bf2-a98e-3dfa7fc0eb92",
   "metadata": {},
   "source": [
    "# Pop() Method"
   ]
  },
  {
   "cell_type": "code",
   "execution_count": 94,
   "id": "fdc9e444-62e7-416c-87d1-a6cf508681aa",
   "metadata": {},
   "outputs": [
    {
     "data": {
      "text/plain": [
       "5"
      ]
     },
     "execution_count": 94,
     "metadata": {},
     "output_type": "execute_result"
    }
   ],
   "source": [
    "lst.pop()"
   ]
  },
  {
   "cell_type": "code",
   "execution_count": 96,
   "id": "6614bcb5-05ab-41ad-9e72-63c6176844df",
   "metadata": {},
   "outputs": [
    {
     "data": {
      "text/plain": [
       "[1, 2, 3, 4]"
      ]
     },
     "execution_count": 96,
     "metadata": {},
     "output_type": "execute_result"
    }
   ],
   "source": [
    "lst"
   ]
  },
  {
   "cell_type": "code",
   "execution_count": 98,
   "id": "7257482f-7c92-471d-9ea3-653fd33d0f73",
   "metadata": {},
   "outputs": [
    {
     "data": {
      "text/plain": [
       "1"
      ]
     },
     "execution_count": 98,
     "metadata": {},
     "output_type": "execute_result"
    }
   ],
   "source": [
    "lst.pop(0)"
   ]
  },
  {
   "cell_type": "code",
   "execution_count": 100,
   "id": "3273e9da-5bc2-4752-8dd6-d514a75b727b",
   "metadata": {},
   "outputs": [
    {
     "data": {
      "text/plain": [
       "[2, 3, 4]"
      ]
     },
     "execution_count": 100,
     "metadata": {},
     "output_type": "execute_result"
    }
   ],
   "source": [
    "lst"
   ]
  },
  {
   "cell_type": "markdown",
   "id": "7504bc02-c774-4d5e-a819-952fccfad420",
   "metadata": {},
   "source": [
    "# count():Calculates total occurence of given element of List"
   ]
  },
  {
   "cell_type": "code",
   "execution_count": 107,
   "id": "4f4ab84b-cab2-4902-abab-a54b2e9f4079",
   "metadata": {},
   "outputs": [
    {
     "data": {
      "text/plain": [
       "2"
      ]
     },
     "execution_count": 107,
     "metadata": {},
     "output_type": "execute_result"
    }
   ],
   "source": [
    "lst = [1,1,2,3,4,5,6,9]\n",
    "lst.count(1)"
   ]
  },
  {
   "cell_type": "code",
   "execution_count": 109,
   "id": "014cc378-c560-455e-bb11-30d16e534c2f",
   "metadata": {},
   "outputs": [
    {
     "data": {
      "text/plain": [
       "8"
      ]
     },
     "execution_count": 109,
     "metadata": {},
     "output_type": "execute_result"
    }
   ],
   "source": [
    "# length: Calculates total length of list\n",
    "len(lst)"
   ]
  },
  {
   "cell_type": "code",
   "execution_count": 113,
   "id": "92c4890e-9366-4ee4-85ab-de8aa67f6ec8",
   "metadata": {},
   "outputs": [
    {
     "data": {
      "text/plain": [
       "0"
      ]
     },
     "execution_count": 113,
     "metadata": {},
     "output_type": "execute_result"
    }
   ],
   "source": [
    "# index(): Returns the index of first occurence. Start and End index are not necessary parameters\n",
    "lst.index(1,0,4)"
   ]
  },
  {
   "cell_type": "code",
   "execution_count": null,
   "id": "926b443c-ec82-4875-82f0-e880bb8d4a95",
   "metadata": {},
   "outputs": [],
   "source": []
  }
 ],
 "metadata": {
  "kernelspec": {
   "display_name": "Python 3 (ipykernel)",
   "language": "python",
   "name": "python3"
  },
  "language_info": {
   "codemirror_mode": {
    "name": "ipython",
    "version": 3
   },
   "file_extension": ".py",
   "mimetype": "text/x-python",
   "name": "python",
   "nbconvert_exporter": "python",
   "pygments_lexer": "ipython3",
   "version": "3.11.7"
  }
 },
 "nbformat": 4,
 "nbformat_minor": 5
}

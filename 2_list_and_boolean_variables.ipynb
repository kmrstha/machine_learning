{
 "cells": [
  {
   "cell_type": "markdown",
   "id": "07d8589f-9728-423d-b901-71875bfdb3f2",
   "metadata": {},
   "source": [
    "# Python Data Structures and Boolean\n",
    "\n",
    "- Boolean\n",
    "- Boolean and Logica Operators\n",
    "- Lists\n",
    "- Comparison operators\n",
    "- Dictionaries\n",
    "- Tuples\n",
    "- Sets"
   ]
  },
  {
   "cell_type": "markdown",
   "id": "76bd737f-c842-4ce2-baf7-68b463df2625",
   "metadata": {},
   "source": [
    "## Boolean Variables"
   ]
  },
  {
   "cell_type": "code",
   "execution_count": 3,
   "id": "36e03b00-52b5-40cf-b37b-855e50e21078",
   "metadata": {},
   "outputs": [
    {
     "data": {
      "text/plain": [
       "False"
      ]
     },
     "execution_count": 3,
     "metadata": {},
     "output_type": "execute_result"
    }
   ],
   "source": [
    "bool()"
   ]
  },
  {
   "cell_type": "code",
   "execution_count": 7,
   "id": "7599b505-1955-49b7-a525-92b1cab29b4e",
   "metadata": {},
   "outputs": [
    {
     "name": "stdout",
     "output_type": "stream",
     "text": [
      "True False\n"
     ]
    }
   ],
   "source": [
    "print (True, False)"
   ]
  },
  {
   "cell_type": "code",
   "execution_count": 9,
   "id": "08325ac6-73fe-4241-9a43-194632049e0c",
   "metadata": {},
   "outputs": [
    {
     "data": {
      "text/plain": [
       "bool"
      ]
     },
     "execution_count": 9,
     "metadata": {},
     "output_type": "execute_result"
    }
   ],
   "source": [
    "type (True)"
   ]
  },
  {
   "cell_type": "code",
   "execution_count": 11,
   "id": "cc97d7da-3fa7-4387-9340-e875b6ad3da6",
   "metadata": {},
   "outputs": [],
   "source": [
    "my_str = 'Hello World'"
   ]
  },
  {
   "cell_type": "code",
   "execution_count": 13,
   "id": "4d4cdf90-fc23-4232-ba2a-d1bb996eac97",
   "metadata": {},
   "outputs": [
    {
     "name": "stdout",
     "output_type": "stream",
     "text": [
      "False\n",
      "False\n",
      "False\n",
      "True\n",
      "False\n",
      "False\n",
      "False\n",
      "True\n",
      "True\n"
     ]
    }
   ],
   "source": [
    "print(my_str.isalnum()) # Check if all char are numbers\n",
    "print(my_str.isalpha()) # Check if all char in the string are alphabetic\n",
    "print(my_str.isdigit()) # test if string contains digits\n",
    "print(my_str.istitle()) # test if string contains title words\n",
    "print(my_str.isupper()) # test if string contains upper case\n",
    "print(my_str.islower()) # test if string contains lower case\n",
    "print(my_str.isspace()) # test if sting contains spaces\n",
    "print(my_str.endswith('d')) # test if string ends with a d\n",
    "print(my_str.startswith('H')) # test if string starts with H"
   ]
  },
  {
   "cell_type": "markdown",
   "id": "3b8670c7-d9ea-43ab-bf96-45de77e659b5",
   "metadata": {},
   "source": [
    "## Boolean and Logical Operators"
   ]
  },
  {
   "cell_type": "code",
   "execution_count": 17,
   "id": "10f807a7-c80c-436f-8793-90e46156634c",
   "metadata": {},
   "outputs": [
    {
     "data": {
      "text/plain": [
       "True"
      ]
     },
     "execution_count": 17,
     "metadata": {},
     "output_type": "execute_result"
    }
   ],
   "source": [
    "True and True"
   ]
  },
  {
   "cell_type": "code",
   "execution_count": 19,
   "id": "607d21e0-22bd-4165-9b51-dd0be20f226f",
   "metadata": {},
   "outputs": [
    {
     "data": {
      "text/plain": [
       "False"
      ]
     },
     "execution_count": 19,
     "metadata": {},
     "output_type": "execute_result"
    }
   ],
   "source": [
    "True and False"
   ]
  },
  {
   "cell_type": "code",
   "execution_count": 21,
   "id": "a8eb8475-432c-4d5b-a01d-5266d76b3f28",
   "metadata": {},
   "outputs": [
    {
     "data": {
      "text/plain": [
       "True"
      ]
     },
     "execution_count": 21,
     "metadata": {},
     "output_type": "execute_result"
    }
   ],
   "source": [
    "True or False"
   ]
  },
  {
   "cell_type": "code",
   "execution_count": 23,
   "id": "6ae4d53c-7f41-418c-b0a2-8fafd72e65d3",
   "metadata": {},
   "outputs": [
    {
     "data": {
      "text/plain": [
       "True"
      ]
     },
     "execution_count": 23,
     "metadata": {},
     "output_type": "execute_result"
    }
   ],
   "source": [
    "True or True"
   ]
  },
  {
   "cell_type": "code",
   "execution_count": 25,
   "id": "bc9ec928-88c1-4ed0-9abe-23aac96026d7",
   "metadata": {},
   "outputs": [],
   "source": [
    "str_example = \"Hello World\"\n",
    "my_str = 'Kumar'"
   ]
  },
  {
   "cell_type": "code",
   "execution_count": 29,
   "id": "b84cb6aa-9d82-4ee9-a1fc-db980b566b64",
   "metadata": {},
   "outputs": [
    {
     "data": {
      "text/plain": [
       "True"
      ]
     },
     "execution_count": 29,
     "metadata": {},
     "output_type": "execute_result"
    }
   ],
   "source": [
    "my_str.isalpha()"
   ]
  },
  {
   "cell_type": "code",
   "execution_count": 27,
   "id": "12edd934-b7de-4968-8c11-5fe5802d0772",
   "metadata": {},
   "outputs": [
    {
     "data": {
      "text/plain": [
       "True"
      ]
     },
     "execution_count": 27,
     "metadata": {},
     "output_type": "execute_result"
    }
   ],
   "source": [
    "my_str.isalpha() or str_example.isnum()"
   ]
  },
  {
   "cell_type": "markdown",
   "id": "32d0f438-f0fe-44b3-b2f1-e5708705df14",
   "metadata": {},
   "source": [
    "## Lists"
   ]
  },
  {
   "cell_type": "code",
   "execution_count": 32,
   "id": "25bc8228-1ea1-43fd-87d3-9d2cf0e80cbc",
   "metadata": {},
   "outputs": [],
   "source": [
    "lst_example = []"
   ]
  },
  {
   "cell_type": "markdown",
   "id": "1485dab7-7cb2-4df9-b490-593e6ca0ec3f",
   "metadata": {},
   "source": [
    "type(lst_example)"
   ]
  },
  {
   "cell_type": "code",
   "execution_count": 36,
   "id": "5e47fac2-9b77-4167-a503-e62d0f53f5f6",
   "metadata": {},
   "outputs": [],
   "source": [
    "lst = list()"
   ]
  },
  {
   "cell_type": "code",
   "execution_count": 38,
   "id": "5a5f2ac3-6eb5-4fdc-9ff1-2eef452573ec",
   "metadata": {},
   "outputs": [
    {
     "data": {
      "text/plain": [
       "list"
      ]
     },
     "execution_count": 38,
     "metadata": {},
     "output_type": "execute_result"
    }
   ],
   "source": [
    "type(lst)"
   ]
  },
  {
   "cell_type": "code",
   "execution_count": 40,
   "id": "b9a1b528-269f-4c18-bcb9-0b7777f3419b",
   "metadata": {},
   "outputs": [],
   "source": [
    "lst = ['Math', 'Account', 12, 10, 26]"
   ]
  },
  {
   "cell_type": "code",
   "execution_count": 42,
   "id": "d22584f8-7394-4dd3-ae41-f737fbb201a3",
   "metadata": {},
   "outputs": [
    {
     "data": {
      "text/plain": [
       "5"
      ]
     },
     "execution_count": 42,
     "metadata": {},
     "output_type": "execute_result"
    }
   ],
   "source": [
    "len(lst)"
   ]
  },
  {
   "cell_type": "code",
   "execution_count": 44,
   "id": "6671f0a8-284e-4463-af79-467eefab4982",
   "metadata": {},
   "outputs": [
    {
     "data": {
      "text/plain": [
       "list"
      ]
     },
     "execution_count": 44,
     "metadata": {},
     "output_type": "execute_result"
    }
   ],
   "source": [
    "type(lst)"
   ]
  },
  {
   "cell_type": "markdown",
   "id": "ad84888c-e813-49cb-9e19-6f429c062ac9",
   "metadata": {},
   "source": [
    "# Append"
   ]
  },
  {
   "cell_type": "code",
   "execution_count": 50,
   "id": "5b81fc40-3ccf-4a7b-9909-ddb70cf6c398",
   "metadata": {},
   "outputs": [],
   "source": [
    "# .append is used to add elements in the list\n",
    "lst.append('Hello')"
   ]
  },
  {
   "cell_type": "code",
   "execution_count": 62,
   "id": "480f146a-f051-4579-92d1-094e457ed026",
   "metadata": {},
   "outputs": [],
   "source": [
    "lst.append([4,9])"
   ]
  },
  {
   "cell_type": "code",
   "execution_count": 64,
   "id": "a29d5993-4cdf-4cf4-b211-555fda9f750a",
   "metadata": {},
   "outputs": [
    {
     "data": {
      "text/plain": [
       "['Math', 'Account', 12, 10, 26, 'Hello', [4, 9]]"
      ]
     },
     "execution_count": 64,
     "metadata": {},
     "output_type": "execute_result"
    }
   ],
   "source": [
    "lst"
   ]
  },
  {
   "cell_type": "code",
   "execution_count": 65,
   "id": "b027cfed-7cf7-4e2b-acf6-e47e3a2ef57f",
   "metadata": {},
   "outputs": [
    {
     "data": {
      "text/plain": [
       "12"
      ]
     },
     "execution_count": 65,
     "metadata": {},
     "output_type": "execute_result"
    }
   ],
   "source": [
    "# Indexing in a list\n",
    "lst[2]"
   ]
  },
  {
   "cell_type": "code",
   "execution_count": 68,
   "id": "0936ff44-33cd-483a-87ff-dd4875329983",
   "metadata": {},
   "outputs": [
    {
     "data": {
      "text/plain": [
       "['Account', 12, 10, 26, 'Hello', [4, 9]]"
      ]
     },
     "execution_count": 68,
     "metadata": {},
     "output_type": "execute_result"
    }
   ],
   "source": [
    "lst[1:]"
   ]
  },
  {
   "cell_type": "code",
   "execution_count": 73,
   "id": "9c989155-f5ea-4303-ab64-4483fdcd606c",
   "metadata": {},
   "outputs": [
    {
     "data": {
      "text/plain": [
       "['Account', 12, 10, 26]"
      ]
     },
     "execution_count": 73,
     "metadata": {},
     "output_type": "execute_result"
    }
   ],
   "source": [
    " lst[1:5]"
   ]
  },
  {
   "cell_type": "markdown",
   "id": "1aed6c2a-8735-4424-8c7d-9b689f133f7b",
   "metadata": {},
   "source": [
    "# Insert"
   ]
  },
  {
   "cell_type": "code",
   "execution_count": 76,
   "id": "9b07224a-f0c9-435f-bcc8-42f7449910f1",
   "metadata": {},
   "outputs": [],
   "source": [
    "# Insert in a specific order\n",
    "lst.insert(2, 'World')"
   ]
  },
  {
   "cell_type": "code",
   "execution_count": 78,
   "id": "fbe4677d-e5a8-41a6-9463-8a4b70bf70c8",
   "metadata": {},
   "outputs": [
    {
     "data": {
      "text/plain": [
       "['Math', 'Account', 'World', 12, 10, 26, 'Hello', [4, 9]]"
      ]
     },
     "execution_count": 78,
     "metadata": {},
     "output_type": "execute_result"
    }
   ],
   "source": [
    "lst"
   ]
  },
  {
   "cell_type": "markdown",
   "id": "e5b2a3fb-9188-4871-a99a-b8fcf4360484",
   "metadata": {},
   "source": [
    "# Extend Method"
   ]
  },
  {
   "cell_type": "code",
   "execution_count": 81,
   "id": "e2dd68c1-a966-4949-9ef0-0e301c07b5ea",
   "metadata": {},
   "outputs": [],
   "source": [
    "lst = [1,2,3,4,5,6]"
   ]
  },
  {
   "cell_type": "code",
   "execution_count": 84,
   "id": "aa2f99ad-85a0-4d2c-b574-64e0045eb768",
   "metadata": {},
   "outputs": [],
   "source": [
    "lst.extend([8,9])"
   ]
  },
  {
   "cell_type": "code",
   "execution_count": 86,
   "id": "f0042136-154a-4361-8855-5d30dd3a513d",
   "metadata": {},
   "outputs": [
    {
     "data": {
      "text/plain": [
       "[1, 2, 3, 4, 5, 6, 8, 9]"
      ]
     },
     "execution_count": 86,
     "metadata": {},
     "output_type": "execute_result"
    }
   ],
   "source": [
    "lst"
   ]
  },
  {
   "cell_type": "markdown",
   "id": "05f02a71-3034-4111-80c1-807094c35b49",
   "metadata": {},
   "source": [
    "# Various Operations that we can perform in List"
   ]
  },
  {
   "cell_type": "code",
   "execution_count": 119,
   "id": "2d534452-3076-4591-aa22-a94f0d13b529",
   "metadata": {},
   "outputs": [],
   "source": [
    "lst = [1,2,3,4,5]"
   ]
  },
  {
   "cell_type": "code",
   "execution_count": 121,
   "id": "c9d90845-8f61-4790-be6a-80a7c81fa130",
   "metadata": {},
   "outputs": [
    {
     "data": {
      "text/plain": [
       "15"
      ]
     },
     "execution_count": 121,
     "metadata": {},
     "output_type": "execute_result"
    }
   ],
   "source": [
    "sum(lst)"
   ]
  },
  {
   "cell_type": "code",
   "execution_count": 123,
   "id": "916cd40a-d0dd-4971-bb54-9ccb73b50044",
   "metadata": {},
   "outputs": [
    {
     "data": {
      "text/plain": [
       "[1, 2, 3, 4, 5, 1, 2, 3, 4, 5]"
      ]
     },
     "execution_count": 123,
     "metadata": {},
     "output_type": "execute_result"
    }
   ],
   "source": [
    "lst*2"
   ]
  },
  {
   "cell_type": "markdown",
   "id": "a5ffd22f-2df3-4bf2-a98e-3dfa7fc0eb92",
   "metadata": {},
   "source": [
    "# Pop() Method"
   ]
  },
  {
   "cell_type": "code",
   "execution_count": 94,
   "id": "fdc9e444-62e7-416c-87d1-a6cf508681aa",
   "metadata": {},
   "outputs": [
    {
     "data": {
      "text/plain": [
       "5"
      ]
     },
     "execution_count": 94,
     "metadata": {},
     "output_type": "execute_result"
    }
   ],
   "source": [
    "lst.pop()"
   ]
  },
  {
   "cell_type": "code",
   "execution_count": 96,
   "id": "6614bcb5-05ab-41ad-9e72-63c6176844df",
   "metadata": {},
   "outputs": [
    {
     "data": {
      "text/plain": [
       "[1, 2, 3, 4]"
      ]
     },
     "execution_count": 96,
     "metadata": {},
     "output_type": "execute_result"
    }
   ],
   "source": [
    "lst"
   ]
  },
  {
   "cell_type": "code",
   "execution_count": 98,
   "id": "7257482f-7c92-471d-9ea3-653fd33d0f73",
   "metadata": {},
   "outputs": [
    {
     "data": {
      "text/plain": [
       "1"
      ]
     },
     "execution_count": 98,
     "metadata": {},
     "output_type": "execute_result"
    }
   ],
   "source": [
    "lst.pop(0)"
   ]
  },
  {
   "cell_type": "code",
   "execution_count": 100,
   "id": "3273e9da-5bc2-4752-8dd6-d514a75b727b",
   "metadata": {},
   "outputs": [
    {
     "data": {
      "text/plain": [
       "[2, 3, 4]"
      ]
     },
     "execution_count": 100,
     "metadata": {},
     "output_type": "execute_result"
    }
   ],
   "source": [
    "lst"
   ]
  },
  {
   "cell_type": "markdown",
   "id": "7504bc02-c774-4d5e-a819-952fccfad420",
   "metadata": {},
   "source": [
    "# count():Calculates total occurence of given element of List"
   ]
  },
  {
   "cell_type": "code",
   "execution_count": 107,
   "id": "4f4ab84b-cab2-4902-abab-a54b2e9f4079",
   "metadata": {},
   "outputs": [
    {
     "data": {
      "text/plain": [
       "2"
      ]
     },
     "execution_count": 107,
     "metadata": {},
     "output_type": "execute_result"
    }
   ],
   "source": [
    "lst = [1,1,2,3,4,5,6,9]\n",
    "lst.count(1)"
   ]
  },
  {
   "cell_type": "code",
   "execution_count": 109,
   "id": "014cc378-c560-455e-bb11-30d16e534c2f",
   "metadata": {},
   "outputs": [
    {
     "data": {
      "text/plain": [
       "8"
      ]
     },
     "execution_count": 109,
     "metadata": {},
     "output_type": "execute_result"
    }
   ],
   "source": [
    "# length: Calculates total length of list\n",
    "len(lst)"
   ]
  },
  {
   "cell_type": "code",
   "execution_count": 113,
   "id": "92c4890e-9366-4ee4-85ab-de8aa67f6ec8",
   "metadata": {},
   "outputs": [
    {
     "data": {
      "text/plain": [
       "0"
      ]
     },
     "execution_count": 113,
     "metadata": {},
     "output_type": "execute_result"
    }
   ],
   "source": [
    "# index(): Returns the index of first occurence. Start and End index are not necessary parameters\n",
    "lst.index(1,0,4)"
   ]
  },
  {
   "cell_type": "markdown",
   "id": "1250af4e-d161-4da4-9c14-28f276f895ae",
   "metadata": {},
   "source": [
    "## Sets"
   ]
  },
  {
   "cell_type": "code",
   "execution_count": 3,
   "id": "1488996c-a316-4581-b341-b31009bd66ab",
   "metadata": {},
   "outputs": [
    {
     "name": "stdout",
     "output_type": "stream",
     "text": [
      "set()\n",
      "<class 'set'>\n"
     ]
    }
   ],
   "source": [
    "# Defining an empty set\n",
    "set_var = set()\n",
    "print(set_var)\n",
    "print(type(set_var))"
   ]
  },
  {
   "cell_type": "code",
   "execution_count": 5,
   "id": "aee0b658-3787-4fe0-a38b-cd9f446d9df7",
   "metadata": {},
   "outputs": [
    {
     "name": "stdout",
     "output_type": "stream",
     "text": [
      "{'Hitman', 'Avengers', 'IronMan'}\n"
     ]
    },
    {
     "data": {
      "text/plain": [
       "set"
      ]
     },
     "execution_count": 5,
     "metadata": {},
     "output_type": "execute_result"
    }
   ],
   "source": [
    "set_var={\"Avengers\",\"IronMan\",\"Hitman\"}\n",
    "print(set_var)\n",
    "type(set_var)"
   ]
  },
  {
   "cell_type": "code",
   "execution_count": 7,
   "id": "24918e1b-47aa-478f-8eaf-15c145d44211",
   "metadata": {},
   "outputs": [],
   "source": [
    "# Inbuilt function in sets\n",
    "set_var.add(\"Hulk\")"
   ]
  },
  {
   "cell_type": "code",
   "execution_count": 9,
   "id": "6711f266-5b66-4195-a848-9fda2b3b478b",
   "metadata": {},
   "outputs": [
    {
     "name": "stdout",
     "output_type": "stream",
     "text": [
      "{'Hitman', 'Hulk', 'Avengers', 'IronMan'}\n"
     ]
    }
   ],
   "source": [
    "print(set_var)"
   ]
  },
  {
   "cell_type": "code",
   "execution_count": 24,
   "id": "a99811e6-19de-4523-9771-01f32be8e86b",
   "metadata": {},
   "outputs": [],
   "source": [
    "set1={\"Avengers\", \"IronMan\", \"Hitman\"}\n",
    "set2={\"Avengers\", \"IronMan\", \"Hitman\", \"Hulk\"}"
   ]
  },
  {
   "cell_type": "code",
   "execution_count": 26,
   "id": "96f33ace-a3f4-43ea-91d2-9f565a16af2a",
   "metadata": {},
   "outputs": [
    {
     "data": {
      "text/plain": [
       "{'Avengers', 'Hitman', 'Hulk', 'IronMan'}"
      ]
     },
     "execution_count": 26,
     "metadata": {},
     "output_type": "execute_result"
    }
   ],
   "source": [
    "set2.intersection(set1)\n",
    "set2"
   ]
  },
  {
   "cell_type": "code",
   "execution_count": 28,
   "id": "c8883314-b7e1-4477-8d8a-6c6b9171c868",
   "metadata": {},
   "outputs": [
    {
     "data": {
      "text/plain": [
       "{'Avengers', 'Hitman', 'IronMan'}"
      ]
     },
     "execution_count": 28,
     "metadata": {},
     "output_type": "execute_result"
    }
   ],
   "source": [
    "set2.intersection_update(set1)\n",
    "set2"
   ]
  },
  {
   "cell_type": "code",
   "execution_count": 13,
   "id": "0828d85e-0607-4b5d-a623-4c8a98c93fcc",
   "metadata": {},
   "outputs": [
    {
     "data": {
      "text/plain": [
       "{'Hulk'}"
      ]
     },
     "execution_count": 13,
     "metadata": {},
     "output_type": "execute_result"
    }
   ],
   "source": [
    "# Difference\n",
    "set2.difference(set1)"
   ]
  },
  {
   "cell_type": "code",
   "execution_count": 15,
   "id": "0a9928be-8a99-439e-8482-4bffb2451010",
   "metadata": {},
   "outputs": [
    {
     "data": {
      "text/plain": [
       "{'Avengers', 'Hitman', 'Hulk', 'IronMan'}"
      ]
     },
     "execution_count": 15,
     "metadata": {},
     "output_type": "execute_result"
    }
   ],
   "source": [
    "set2"
   ]
  },
  {
   "cell_type": "code",
   "execution_count": 19,
   "id": "9b4d970b-029d-487e-9332-e2b5b965af89",
   "metadata": {},
   "outputs": [
    {
     "data": {
      "text/plain": [
       "{'Hulk'}"
      ]
     },
     "execution_count": 19,
     "metadata": {},
     "output_type": "execute_result"
    }
   ],
   "source": [
    "# Difference update\n",
    "set2.difference_update(set1)\n",
    "set2"
   ]
  },
  {
   "cell_type": "markdown",
   "id": "659e047e-e64d-4809-96e1-925812fe58f6",
   "metadata": {},
   "source": [
    "## Dictionaries"
   ]
  },
  {
   "cell_type": "code",
   "execution_count": 30,
   "id": "c8cb331f-6d93-4455-9cb6-943201c405e6",
   "metadata": {},
   "outputs": [
    {
     "data": {
      "text/plain": [
       "dict"
      ]
     },
     "execution_count": 30,
     "metadata": {},
     "output_type": "execute_result"
    }
   ],
   "source": [
    "dic={}\n",
    "type(dic)"
   ]
  },
  {
   "cell_type": "code",
   "execution_count": 2,
   "id": "18a8849f-6daf-4216-b9cd-d5fd6004f555",
   "metadata": {},
   "outputs": [],
   "source": [
    "my_dict={\"car1\":\"Audi\",\"car2\":\"BMW\",\"car3\":\"Mercedes Brnz\"}"
   ]
  },
  {
   "cell_type": "code",
   "execution_count": 6,
   "id": "ad569d35-3982-4737-bb88-445b597cde71",
   "metadata": {},
   "outputs": [
    {
     "data": {
      "text/plain": [
       "'Audi'"
      ]
     },
     "execution_count": 6,
     "metadata": {},
     "output_type": "execute_result"
    }
   ],
   "source": [
    "# Access the item values based on keys\n",
    "my_dict['car1']"
   ]
  },
  {
   "cell_type": "code",
   "execution_count": 8,
   "id": "b24d844d-c28b-4440-a1a3-7c7b96f5b8cd",
   "metadata": {},
   "outputs": [
    {
     "name": "stdout",
     "output_type": "stream",
     "text": [
      "car1\n",
      "car2\n",
      "car3\n"
     ]
    }
   ],
   "source": [
    "# We can loop through the dictionary keys\n",
    "\n",
    "for x in my_dict:\n",
    "    print(x)"
   ]
  },
  {
   "cell_type": "code",
   "execution_count": 10,
   "id": "0532f3ab-18aa-4525-8d2c-81f44a93eb36",
   "metadata": {},
   "outputs": [
    {
     "name": "stdout",
     "output_type": "stream",
     "text": [
      "Audi\n",
      "BMW\n",
      "Mercedes Brnz\n"
     ]
    }
   ],
   "source": [
    "# We can even loop through the dictionary values\n",
    "for x in my_dict.values():\n",
    "    print(x)"
   ]
  },
  {
   "cell_type": "code",
   "execution_count": 12,
   "id": "5229886d-4d30-4e9e-905c-424ddf748775",
   "metadata": {},
   "outputs": [
    {
     "name": "stdout",
     "output_type": "stream",
     "text": [
      "('car1', 'Audi')\n",
      "('car2', 'BMW')\n",
      "('car3', 'Mercedes Brnz')\n"
     ]
    }
   ],
   "source": [
    "# We can also check both keys and values\n",
    "for x in my_dict.items():\n",
    "    print(x)"
   ]
  },
  {
   "cell_type": "code",
   "execution_count": 25,
   "id": "b9f1d7a4-01f3-4c63-8ba6-7d75a516fb9a",
   "metadata": {},
   "outputs": [
    {
     "data": {
      "text/plain": [
       "{'car1': 'Maruti', 'car2': 'BMW', 'car3': 'Mercedes Brnz', 'car4': 'Audi 2.0'}"
      ]
     },
     "execution_count": 25,
     "metadata": {},
     "output_type": "execute_result"
    }
   ],
   "source": [
    "# Adding items in Dictionary\n",
    "\n",
    "my_dict['car4'] ='Audi 2.0'\n",
    "my_dict"
   ]
  },
  {
   "cell_type": "code",
   "execution_count": 27,
   "id": "dc5063cc-a198-4216-b89c-cc2b02e0acbb",
   "metadata": {},
   "outputs": [
    {
     "data": {
      "text/plain": [
       "{'car1': 'Maruti', 'car2': 'BMW', 'car3': 'Mercedes Brnz', 'car4': 'Audi 2.0'}"
      ]
     },
     "execution_count": 27,
     "metadata": {},
     "output_type": "execute_result"
    }
   ],
   "source": [
    "my_dict['car1']='Maruti'\n",
    "my_dict"
   ]
  },
  {
   "cell_type": "markdown",
   "id": "d983ab75-4082-456d-92ac-c3d00ae62233",
   "metadata": {},
   "source": [
    "## Nested Dictionary"
   ]
  },
  {
   "cell_type": "code",
   "execution_count": 31,
   "id": "6547f8a6-5fcd-4775-9671-27103408f6d1",
   "metadata": {},
   "outputs": [
    {
     "name": "stdout",
     "output_type": "stream",
     "text": [
      "{'car1': {'Mercedes': 1960}, 'car2': {'Audi': 1970}, 'car3': {'Ambassador': 1980}}\n"
     ]
    }
   ],
   "source": [
    "car1_model={'Mercedes':1960}\n",
    "car2_model={'Audi':1970}\n",
    "car3_model={'Ambassador':1980}\n",
    "\n",
    "car_type={'car1':car1_model,'car2':car2_model,'car3':car3_model}\n",
    "\n",
    "print(car_type)"
   ]
  },
  {
   "cell_type": "code",
   "execution_count": 33,
   "id": "e055d354-a151-4d51-85b7-34b4b520aa07",
   "metadata": {},
   "outputs": [
    {
     "name": "stdout",
     "output_type": "stream",
     "text": [
      "{'Mercedes': 1960}\n"
     ]
    }
   ],
   "source": [
    "# Accessing the items in the dictionary\n",
    "\n",
    "print(car_type['car1'])"
   ]
  },
  {
   "cell_type": "code",
   "execution_count": 37,
   "id": "fcc12edc-e78f-4a9d-8db8-1cb5376c29e7",
   "metadata": {},
   "outputs": [
    {
     "name": "stdout",
     "output_type": "stream",
     "text": [
      "1960\n"
     ]
    }
   ],
   "source": [
    "print(car_type['car1']['Mercedes'])"
   ]
  },
  {
   "cell_type": "markdown",
   "id": "059fdb9d-62d7-4041-8de3-d6f51afe12af",
   "metadata": {},
   "source": [
    "## Tuples"
   ]
  },
  {
   "cell_type": "code",
   "execution_count": 40,
   "id": "ce11dea8-a836-49d0-ac75-77acfee9dfeb",
   "metadata": {},
   "outputs": [],
   "source": [
    "# Create an empty Tuples\n",
    "\n",
    "my_tuple=tuple()"
   ]
  },
  {
   "cell_type": "code",
   "execution_count": 42,
   "id": "97d33413-c43f-400e-9123-950aaa3bbd5b",
   "metadata": {},
   "outputs": [
    {
     "data": {
      "text/plain": [
       "tuple"
      ]
     },
     "execution_count": 42,
     "metadata": {},
     "output_type": "execute_result"
    }
   ],
   "source": [
    "type(my_tuple)"
   ]
  },
  {
   "cell_type": "code",
   "execution_count": 44,
   "id": "afee2b3c-a369-439c-897c-f2af8588113f",
   "metadata": {},
   "outputs": [],
   "source": [
    "my_tuple=('Brad','Chandler','Ross','Joey')"
   ]
  },
  {
   "cell_type": "code",
   "execution_count": 46,
   "id": "6c51c202-dd8e-4fa4-b898-4771f1462b3c",
   "metadata": {},
   "outputs": [
    {
     "data": {
      "text/plain": [
       "'Brad'"
      ]
     },
     "execution_count": 46,
     "metadata": {},
     "output_type": "execute_result"
    }
   ],
   "source": [
    "my_tuple[0]"
   ]
  },
  {
   "cell_type": "code",
   "execution_count": 48,
   "id": "9740cd91-8f9f-49ed-a002-cf4a54d96d8c",
   "metadata": {},
   "outputs": [
    {
     "name": "stdout",
     "output_type": "stream",
     "text": [
      "<class 'tuple'>\n",
      "('Brad', 'Chandler', 'Ross', 'Joey')\n"
     ]
    }
   ],
   "source": [
    "print(type(my_tuple))\n",
    "print(my_tuple)"
   ]
  },
  {
   "cell_type": "code",
   "execution_count": 50,
   "id": "2880c537-94c0-4e76-9efa-bbbb67af6b4b",
   "metadata": {},
   "outputs": [
    {
     "data": {
      "text/plain": [
       "1"
      ]
     },
     "execution_count": 50,
     "metadata": {},
     "output_type": "execute_result"
    }
   ],
   "source": [
    "# Inbuilt function\n",
    "my_tuple.count(\"Chandler\")"
   ]
  },
  {
   "cell_type": "code",
   "execution_count": 52,
   "id": "94cfdf95-02be-44d3-b623-edcfe0a46990",
   "metadata": {},
   "outputs": [
    {
     "data": {
      "text/plain": [
       "3"
      ]
     },
     "execution_count": 52,
     "metadata": {},
     "output_type": "execute_result"
    }
   ],
   "source": [
    "my_tuple.index(\"Joey\")"
   ]
  },
  {
   "cell_type": "code",
   "execution_count": null,
   "id": "8fbc5c12-888a-43fe-85ac-5c2c8059fecb",
   "metadata": {},
   "outputs": [],
   "source": []
  }
 ],
 "metadata": {
  "kernelspec": {
   "display_name": "Python 3 (ipykernel)",
   "language": "python",
   "name": "python3"
  },
  "language_info": {
   "codemirror_mode": {
    "name": "ipython",
    "version": 3
   },
   "file_extension": ".py",
   "mimetype": "text/x-python",
   "name": "python",
   "nbconvert_exporter": "python",
   "pygments_lexer": "ipython3",
   "version": "3.11.7"
  }
 },
 "nbformat": 4,
 "nbformat_minor": 5
}

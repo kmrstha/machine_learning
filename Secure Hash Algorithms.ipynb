{
 "cells": [
  {
   "cell_type": "markdown",
   "id": "ce04a365-cf22-455e-a963-1b8d7d0dedf2",
   "metadata": {},
   "source": [
    "# SHA, ( Secure Hash Algorithms )- Base Of BlockChain\n",
    "\n",
    "- SHA256 : This hash function belong to hash class SHA-2, the internal block size of it is 32 bits.\n",
    "- SHA384 : This hash function belong to hash class SHA-2, the internal block size of it is 32 bits. This is one of the truncated version.\n",
    "- SHA224 : This hash function belong to hash class SHA-2, the internal block size of it is 32 bits. This is one of the truncated version.\n",
    "- SHA512 : This hash function belong to hash class SHA-2, the internal block size of it is 64 bits.\n",
    "- SHA1 : The 160 bit hash function that resembles MD5 hash in working and was discontinued to be used seeing its security vulnerabilities."
   ]
  },
  {
   "cell_type": "code",
   "execution_count": 4,
   "id": "5858ab3c-6be4-4880-825a-9aa7a030d192",
   "metadata": {},
   "outputs": [],
   "source": [
    "import hashlib"
   ]
  },
  {
   "cell_type": "markdown",
   "id": "3a869738-0094-4ac2-a712-528b0cd5b22c",
   "metadata": {},
   "source": [
    "## SHA256"
   ]
  },
  {
   "cell_type": "code",
   "execution_count": 7,
   "id": "76a3a622-acc2-4a80-869d-a0b9d24ed9ab",
   "metadata": {},
   "outputs": [
    {
     "name": "stdout",
     "output_type": "stream",
     "text": [
      "<sha256 _hashlib.HASH object @ 0x0000019914ECF7F0>\n"
     ]
    }
   ],
   "source": [
    "str1=\"Chelsea Football Club\"\n",
    "### Process of Hashing\n",
    "### First step is to encode\n",
    "### Then Apply hashing Algorithms\n",
    "hashedval = hashlib.sha256(str1.encode()) \n",
    "print(hashedval)"
   ]
  },
  {
   "cell_type": "code",
   "execution_count": 9,
   "id": "4e1dc0cb-43ec-474a-a471-86a0a0063890",
   "metadata": {},
   "outputs": [
    {
     "data": {
      "text/plain": [
       "'a6712ee15f6585db13d0233d524ebf9afbeba00969e6ab86d09bd023998ab360'"
      ]
     },
     "execution_count": 9,
     "metadata": {},
     "output_type": "execute_result"
    }
   ],
   "source": [
    "###convert this value to hexadecimal\n",
    "hashedval.hexdigest()"
   ]
  },
  {
   "cell_type": "markdown",
   "id": "fab5cc31-b158-4dc7-9477-f7e6f3b44494",
   "metadata": {},
   "source": [
    "## SHA384"
   ]
  },
  {
   "cell_type": "code",
   "execution_count": 12,
   "id": "d0e24047-7bc8-466d-b8c8-18eb5c34c86d",
   "metadata": {},
   "outputs": [
    {
     "data": {
      "text/plain": [
       "'d17168ac085b5cf215cc53c0e1e3839658e33aed7cf751aa57e43b8fbc31fbe67a7e5a9f67621fba17bf57b4dd41ab43'"
      ]
     },
     "execution_count": 12,
     "metadata": {},
     "output_type": "execute_result"
    }
   ],
   "source": [
    "hashedval=hashlib.sha384(str1.encode()) \n",
    "hashedval.hexdigest()"
   ]
  },
  {
   "cell_type": "markdown",
   "id": "55192268-d7d7-4c5a-a836-4a56caa92924",
   "metadata": {},
   "source": [
    "## SHA224"
   ]
  },
  {
   "cell_type": "code",
   "execution_count": 15,
   "id": "6bc97ffe-6195-423c-b2e4-0eee247cfee8",
   "metadata": {},
   "outputs": [
    {
     "data": {
      "text/plain": [
       "'55690b65bb373178222220bcd22601f33d2523ab44d38429ed0ed38e'"
      ]
     },
     "execution_count": 15,
     "metadata": {},
     "output_type": "execute_result"
    }
   ],
   "source": [
    "hashedval=hashlib.sha224(str1.encode()) \n",
    "hashedval.hexdigest()"
   ]
  },
  {
   "cell_type": "markdown",
   "id": "de2d7ca4-1225-4a3e-ad7a-0a15275f6557",
   "metadata": {},
   "source": [
    "## SHA512"
   ]
  },
  {
   "cell_type": "code",
   "execution_count": 18,
   "id": "e52701bb-a6df-4435-8736-714afa0d3d18",
   "metadata": {},
   "outputs": [
    {
     "data": {
      "text/plain": [
       "'2f2b5d1567033b92eefb8667401de15bad5ee871c0eebf8307872b19b7718ff46d7af288780ab808021c009886411d0f8d2ee4ba908d31e6241bbd6f327347a6'"
      ]
     },
     "execution_count": 18,
     "metadata": {},
     "output_type": "execute_result"
    }
   ],
   "source": [
    "hashedval=hashlib.sha512(str1.encode()) \n",
    "hashedval.hexdigest()"
   ]
  },
  {
   "cell_type": "markdown",
   "id": "6de008f3-e627-4e41-830d-df4b1b6424a7",
   "metadata": {},
   "source": [
    "## SHA1"
   ]
  },
  {
   "cell_type": "code",
   "execution_count": 21,
   "id": "6cbd64eb-9957-4654-8ac7-831b4f64944b",
   "metadata": {},
   "outputs": [
    {
     "data": {
      "text/plain": [
       "'1251385a56262d05912f9fea5fe4de8bc5276476'"
      ]
     },
     "execution_count": 21,
     "metadata": {},
     "output_type": "execute_result"
    }
   ],
   "source": [
    "hashedval=hashlib.sha1(str1.encode()) \n",
    "hashedval.hexdigest()"
   ]
  },
  {
   "cell_type": "code",
   "execution_count": null,
   "id": "60a7e36e-1a18-4879-9ae9-ff7b93969346",
   "metadata": {},
   "outputs": [],
   "source": []
  }
 ],
 "metadata": {
  "kernelspec": {
   "display_name": "Python 3 (ipykernel)",
   "language": "python",
   "name": "python3"
  },
  "language_info": {
   "codemirror_mode": {
    "name": "ipython",
    "version": 3
   },
   "file_extension": ".py",
   "mimetype": "text/x-python",
   "name": "python",
   "nbconvert_exporter": "python",
   "pygments_lexer": "ipython3",
   "version": "3.11.7"
  }
 },
 "nbformat": 4,
 "nbformat_minor": 5
}

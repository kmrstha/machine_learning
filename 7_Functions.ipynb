{
 "cells": [
  {
   "cell_type": "code",
   "execution_count": 1,
   "id": "3308527b-1cea-415f-8a6d-bcb9d4505fd6",
   "metadata": {},
   "outputs": [
    {
     "name": "stdout",
     "output_type": "stream",
     "text": [
      "The number is even\n"
     ]
    }
   ],
   "source": [
    "num = 24\n",
    "\n",
    "if num%2==0:\n",
    "    print(\"The number is even\")\n",
    "else:\n",
    "    print(\"The number is odd\")"
   ]
  },
  {
   "cell_type": "code",
   "execution_count": 11,
   "id": "ac3a83fc-d691-4cb3-9ee3-372da2d012b8",
   "metadata": {},
   "outputs": [],
   "source": [
    "def even_odd(num):\n",
    "    if num%2==0:\n",
    "        print(\"The number is even\")\n",
    "    else:\n",
    "        print(\"The number is odd\")"
   ]
  },
  {
   "cell_type": "code",
   "execution_count": 13,
   "id": "843625a9-78f9-4dfa-8501-1aebff832cbe",
   "metadata": {},
   "outputs": [
    {
     "name": "stdout",
     "output_type": "stream",
     "text": [
      "The number is odd\n"
     ]
    }
   ],
   "source": [
    "even_odd(13)"
   ]
  },
  {
   "cell_type": "code",
   "execution_count": 15,
   "id": "c6a1f1bd-a554-42d0-95bb-caf34e498931",
   "metadata": {},
   "outputs": [],
   "source": [
    "# print vs return\n",
    "def hello_world():\n",
    "    print(\"Hello World\")"
   ]
  },
  {
   "cell_type": "code",
   "execution_count": 17,
   "id": "b9aead39-db7c-4a2b-b09e-b4447db4be88",
   "metadata": {},
   "outputs": [
    {
     "name": "stdout",
     "output_type": "stream",
     "text": [
      "Hello World\n"
     ]
    }
   ],
   "source": [
    "hello_world()"
   ]
  },
  {
   "cell_type": "code",
   "execution_count": 19,
   "id": "a3c50d14-e284-47a5-ae0a-c2ce268f7343",
   "metadata": {},
   "outputs": [
    {
     "name": "stdout",
     "output_type": "stream",
     "text": [
      "Hello World\n"
     ]
    }
   ],
   "source": [
    "val = hello_world()"
   ]
  },
  {
   "cell_type": "code",
   "execution_count": 21,
   "id": "2e7e6bba-9d29-4077-90f9-fb34976d1c79",
   "metadata": {},
   "outputs": [
    {
     "name": "stdout",
     "output_type": "stream",
     "text": [
      "None\n"
     ]
    }
   ],
   "source": [
    "print(val)"
   ]
  },
  {
   "cell_type": "code",
   "execution_count": 23,
   "id": "3f91f0cd-fdf8-4923-8450-d67ec1cf159e",
   "metadata": {},
   "outputs": [],
   "source": [
    "def hello_world():\n",
    "    return \"Hello World\"\n",
    "    "
   ]
  },
  {
   "cell_type": "code",
   "execution_count": 25,
   "id": "91f6ea36-e76f-4448-8e1e-d6e0b70c0c46",
   "metadata": {},
   "outputs": [],
   "source": [
    "val1 = hello_world()"
   ]
  },
  {
   "cell_type": "code",
   "execution_count": 27,
   "id": "9aa23a6b-8a82-4388-9db2-b095a8f5d1bf",
   "metadata": {},
   "outputs": [
    {
     "name": "stdout",
     "output_type": "stream",
     "text": [
      "Hello World\n"
     ]
    }
   ],
   "source": [
    "print (val1)"
   ]
  },
  {
   "cell_type": "code",
   "execution_count": 29,
   "id": "a80fa747-dfdc-40e1-9020-cbb2363585bd",
   "metadata": {},
   "outputs": [],
   "source": [
    "def add_number(num1, num2):\n",
    "    return num1+num2"
   ]
  },
  {
   "cell_type": "code",
   "execution_count": 31,
   "id": "b9e28814-b80e-421f-ab86-b5e51299e25e",
   "metadata": {},
   "outputs": [
    {
     "name": "stdout",
     "output_type": "stream",
     "text": [
      "37\n"
     ]
    }
   ],
   "source": [
    "val = add_number(14,23)\n",
    "print(val)"
   ]
  },
  {
   "cell_type": "code",
   "execution_count": 37,
   "id": "930e1308-ed82-4cff-916e-6e7fc6fd31a0",
   "metadata": {},
   "outputs": [],
   "source": [
    "# positional argument\n",
    "# keyword argument\n",
    "\n",
    "def hello(name, age=29):\n",
    "    print(\"My name is {} and age is {}\".format(name,age))"
   ]
  },
  {
   "cell_type": "code",
   "execution_count": 39,
   "id": "f83e0092-8cb1-4ffa-89e6-1d3f5e0fc4a1",
   "metadata": {},
   "outputs": [
    {
     "name": "stdout",
     "output_type": "stream",
     "text": [
      "My name is Kumar and age is 29\n"
     ]
    }
   ],
   "source": [
    "hello(\"Kumar\")"
   ]
  },
  {
   "cell_type": "code",
   "execution_count": 41,
   "id": "2bbeff0a-f991-4626-a83f-268a77720e93",
   "metadata": {},
   "outputs": [],
   "source": [
    "def hello(*args, **kwargs):\n",
    "    print(args)\n",
    "    print(kwargs)"
   ]
  },
  {
   "cell_type": "code",
   "execution_count": 43,
   "id": "f9a950e1-a0bb-4bac-8e62-31c4c0b71718",
   "metadata": {},
   "outputs": [
    {
     "name": "stdout",
     "output_type": "stream",
     "text": [
      "('Cole', 'Palmer')\n",
      "{'age': 22, 'dob': 2002}\n"
     ]
    }
   ],
   "source": [
    "hello(\"Cole\",\"Palmer\",age = 22, dob=2002)"
   ]
  },
  {
   "cell_type": "code",
   "execution_count": 45,
   "id": "0168f7c0-9364-4b6f-9c9c-ac356a232a86",
   "metadata": {},
   "outputs": [],
   "source": [
    "lst = ['Cole', 'Palmer']\n",
    "dict_args = {'age': 22, 'dob': 2002}"
   ]
  },
  {
   "cell_type": "code",
   "execution_count": 47,
   "id": "f131d5df-7e09-4fb1-9b42-ec9cd34876b9",
   "metadata": {},
   "outputs": [
    {
     "name": "stdout",
     "output_type": "stream",
     "text": [
      "(['Cole', 'Palmer'], {'age': 22, 'dob': 2002})\n",
      "{}\n"
     ]
    }
   ],
   "source": [
    "#wrong\n",
    "hello(lst,dict_args)"
   ]
  },
  {
   "cell_type": "code",
   "execution_count": 49,
   "id": "ce61209e-6272-4543-a00c-bd27d69dfb29",
   "metadata": {},
   "outputs": [
    {
     "name": "stdout",
     "output_type": "stream",
     "text": [
      "('Cole', 'Palmer')\n",
      "{'age': 22, 'dob': 2002}\n"
     ]
    }
   ],
   "source": [
    "hello(*lst,**dict_args)"
   ]
  },
  {
   "cell_type": "code",
   "execution_count": 51,
   "id": "2dd7b632-1a84-45ee-affa-e088898fedc0",
   "metadata": {},
   "outputs": [],
   "source": [
    "lst = [1,2,3,4,5,6,7]"
   ]
  },
  {
   "cell_type": "code",
   "execution_count": 53,
   "id": "a49f856c-3aa0-4910-bff5-15b6a0261efb",
   "metadata": {},
   "outputs": [],
   "source": [
    "def evenoddsum(lst):\n",
    "    even_sum = 0\n",
    "    odd_sum = 0\n",
    "    for i in lst:\n",
    "        if i % 2 == 0:\n",
    "            even_sum += i\n",
    "        else:\n",
    "            odd_sum += i\n",
    "    return even_sum, odd_sum"
   ]
  },
  {
   "cell_type": "code",
   "execution_count": 55,
   "id": "20f60347-9ea3-4646-a6b9-ff44230584de",
   "metadata": {},
   "outputs": [
    {
     "data": {
      "text/plain": [
       "(12, 16)"
      ]
     },
     "execution_count": 55,
     "metadata": {},
     "output_type": "execute_result"
    }
   ],
   "source": [
    "evenoddsum(lst)"
   ]
  },
  {
   "cell_type": "code",
   "execution_count": null,
   "id": "79ec497b-12a8-44cd-9777-7b0a2b45f2f3",
   "metadata": {},
   "outputs": [],
   "source": []
  },
  {
   "cell_type": "markdown",
   "id": "25adb815-9a40-4557-8336-40f0b8f006e2",
   "metadata": {},
   "source": [
    "## Lambda Funtion\n",
    "\n",
    "Anonymous function.  \n",
    "\n",
    "A function with no name"
   ]
  },
  {
   "cell_type": "code",
   "execution_count": 65,
   "id": "f6406dce-93f1-45f5-b8b8-23de975c869b",
   "metadata": {},
   "outputs": [],
   "source": [
    "def addition(a,b):\n",
    "    return a+b"
   ]
  },
  {
   "cell_type": "code",
   "execution_count": 67,
   "id": "cb5c6126-fb30-4166-8a97-e06c002a3607",
   "metadata": {},
   "outputs": [
    {
     "data": {
      "text/plain": [
       "9"
      ]
     },
     "execution_count": 67,
     "metadata": {},
     "output_type": "execute_result"
    }
   ],
   "source": [
    "addition (4,5)"
   ]
  },
  {
   "cell_type": "code",
   "execution_count": 69,
   "id": "fa753923-0a26-4fee-af18-d20d03d37a97",
   "metadata": {},
   "outputs": [],
   "source": [
    "addition = lambda a,b:a+b"
   ]
  },
  {
   "cell_type": "code",
   "execution_count": 73,
   "id": "52ac5374-60a0-49aa-afa4-565b7a2d00e9",
   "metadata": {},
   "outputs": [
    {
     "data": {
      "text/plain": [
       "14"
      ]
     },
     "execution_count": 73,
     "metadata": {},
     "output_type": "execute_result"
    }
   ],
   "source": [
    "addition(9,5)"
   ]
  },
  {
   "cell_type": "code",
   "execution_count": 75,
   "id": "9c77baaf-4aad-4b36-84a0-da42a42268de",
   "metadata": {},
   "outputs": [],
   "source": [
    "def even(num):\n",
    "    if num%2==0:\n",
    "        return True"
   ]
  },
  {
   "cell_type": "code",
   "execution_count": 77,
   "id": "37af9488-f970-47ab-9931-a01755c6c3f3",
   "metadata": {},
   "outputs": [
    {
     "data": {
      "text/plain": [
       "True"
      ]
     },
     "execution_count": 77,
     "metadata": {},
     "output_type": "execute_result"
    }
   ],
   "source": [
    "even(24)"
   ]
  },
  {
   "cell_type": "code",
   "execution_count": 79,
   "id": "1d799c6f-ffa9-467e-9b79-d5b725e5a4e9",
   "metadata": {},
   "outputs": [],
   "source": [
    "even1 = lambda a:a%2==0"
   ]
  },
  {
   "cell_type": "code",
   "execution_count": 81,
   "id": "8d76e544-fee9-4aa1-afe5-ff05a0b85a35",
   "metadata": {},
   "outputs": [
    {
     "data": {
      "text/plain": [
       "True"
      ]
     },
     "execution_count": 81,
     "metadata": {},
     "output_type": "execute_result"
    }
   ],
   "source": [
    "even1(4)"
   ]
  },
  {
   "cell_type": "code",
   "execution_count": 83,
   "id": "f67f294b-c6ac-47c9-8b88-c4ab1e40302f",
   "metadata": {},
   "outputs": [],
   "source": [
    "def addition(x,y,z):\n",
    "    return x+y+z"
   ]
  },
  {
   "cell_type": "code",
   "execution_count": 85,
   "id": "5c62abbb-e01a-4be4-87e4-bbbe273129c2",
   "metadata": {},
   "outputs": [
    {
     "data": {
      "text/plain": [
       "9"
      ]
     },
     "execution_count": 85,
     "metadata": {},
     "output_type": "execute_result"
    }
   ],
   "source": [
    "addition(2,3,4)"
   ]
  },
  {
   "cell_type": "code",
   "execution_count": 87,
   "id": "3cafaa74-713e-4a94-90f3-90ab02479805",
   "metadata": {},
   "outputs": [],
   "source": [
    "addition = lambda x,y,z:x+y+z"
   ]
  },
  {
   "cell_type": "code",
   "execution_count": 89,
   "id": "12517487-b460-4cea-86d1-bfa7d83851b1",
   "metadata": {},
   "outputs": [
    {
     "data": {
      "text/plain": [
       "9"
      ]
     },
     "execution_count": 89,
     "metadata": {},
     "output_type": "execute_result"
    }
   ],
   "source": [
    "addition(2,3,4)"
   ]
  },
  {
   "cell_type": "code",
   "execution_count": null,
   "id": "96432cd7-5bc5-4d4f-a8c7-1a945a57c1ce",
   "metadata": {},
   "outputs": [],
   "source": []
  },
  {
   "cell_type": "markdown",
   "id": "e839ab46-6c6f-468e-a4b2-bf94508db5a9",
   "metadata": {},
   "source": [
    "## Map Function"
   ]
  },
  {
   "cell_type": "code",
   "execution_count": 96,
   "id": "baea26aa-4231-4470-a372-67830051d719",
   "metadata": {},
   "outputs": [],
   "source": [
    "def even_or_odd(num):\n",
    "    if num%2==0:\n",
    "        return \"The number {} is even\".format(num)\n",
    "    else:\n",
    "        return \"The number {} is odd\".format(num)"
   ]
  },
  {
   "cell_type": "code",
   "execution_count": 98,
   "id": "2d6aa5a9-d67d-456e-9b57-7648fa71fc9b",
   "metadata": {},
   "outputs": [
    {
     "data": {
      "text/plain": [
       "'The 24 is even'"
      ]
     },
     "execution_count": 98,
     "metadata": {},
     "output_type": "execute_result"
    }
   ],
   "source": [
    "even_or_odd(24)"
   ]
  },
  {
   "cell_type": "code",
   "execution_count": 100,
   "id": "83f867b4-4689-4e11-be69-d405b29d8f34",
   "metadata": {},
   "outputs": [],
   "source": [
    "lst=[1,2,3,4,5,6,7,34,65,67,68,789]"
   ]
  },
  {
   "cell_type": "code",
   "execution_count": 102,
   "id": "4f613770-1284-47e5-96ea-280570b20b9d",
   "metadata": {},
   "outputs": [
    {
     "data": {
      "text/plain": [
       "<map at 0x2708dba9120>"
      ]
     },
     "execution_count": 102,
     "metadata": {},
     "output_type": "execute_result"
    }
   ],
   "source": [
    "map(even_or_odd, lst)"
   ]
  },
  {
   "cell_type": "code",
   "execution_count": 104,
   "id": "9799ea31-c49a-478e-8ce7-fbd5594e994d",
   "metadata": {},
   "outputs": [
    {
     "data": {
      "text/plain": [
       "['The 1 is odd',\n",
       " 'The 2 is even',\n",
       " 'The 3 is odd',\n",
       " 'The 4 is even',\n",
       " 'The 5 is odd',\n",
       " 'The 6 is even',\n",
       " 'The 7 is odd',\n",
       " 'The 34 is even',\n",
       " 'The 5 is odd',\n",
       " 'The 67 is odd',\n",
       " 'The 68 is even',\n",
       " 'The 789 is odd']"
      ]
     },
     "execution_count": 104,
     "metadata": {},
     "output_type": "execute_result"
    }
   ],
   "source": [
    "list(map(even_or_odd, lst))"
   ]
  },
  {
   "cell_type": "code",
   "execution_count": null,
   "id": "0fcab24f-df95-4a82-b160-c16659e9e6a6",
   "metadata": {},
   "outputs": [],
   "source": []
  },
  {
   "cell_type": "markdown",
   "id": "87ef5e37-6cfa-47eb-ab76-1c95ccca7280",
   "metadata": {},
   "source": [
    "## Filter Function"
   ]
  },
  {
   "cell_type": "code",
   "execution_count": 116,
   "id": "a7d82691-2fff-4831-871b-81f3a86db8c4",
   "metadata": {},
   "outputs": [],
   "source": [
    "def even(num):\n",
    "    if num%2==0:\n",
    "        return True"
   ]
  },
  {
   "cell_type": "code",
   "execution_count": 118,
   "id": "d44c04c7-6ef9-45f7-804f-b5a698a74c99",
   "metadata": {},
   "outputs": [],
   "source": [
    "lst = [1,2,3,4,5,6,7,8,9,14,14,46]"
   ]
  },
  {
   "cell_type": "code",
   "execution_count": 120,
   "id": "0c69eaa3-96ee-40e5-ad6b-6e0a460a7767",
   "metadata": {},
   "outputs": [
    {
     "data": {
      "text/plain": [
       "<filter at 0x2708b6daef0>"
      ]
     },
     "execution_count": 120,
     "metadata": {},
     "output_type": "execute_result"
    }
   ],
   "source": [
    "filter(even,lst)"
   ]
  },
  {
   "cell_type": "code",
   "execution_count": 122,
   "id": "7a24629d-ce8f-4a75-9053-7e02e1d3ce46",
   "metadata": {},
   "outputs": [
    {
     "data": {
      "text/plain": [
       "[2, 4, 6, 8, 14, 14, 46]"
      ]
     },
     "execution_count": 122,
     "metadata": {},
     "output_type": "execute_result"
    }
   ],
   "source": [
    "list(filter(even,lst))"
   ]
  },
  {
   "cell_type": "code",
   "execution_count": 124,
   "id": "58e9f303-6a2a-4596-a143-1b51339d90b0",
   "metadata": {},
   "outputs": [
    {
     "data": {
      "text/plain": [
       "<filter at 0x2708b6d9b70>"
      ]
     },
     "execution_count": 124,
     "metadata": {},
     "output_type": "execute_result"
    }
   ],
   "source": [
    "filter(lambda num:num%2==0,lst)"
   ]
  },
  {
   "cell_type": "code",
   "execution_count": 126,
   "id": "823ed040-4df1-4f82-9ac7-7f3a7efb9f75",
   "metadata": {},
   "outputs": [
    {
     "data": {
      "text/plain": [
       "[2, 4, 6, 8, 14, 14, 46]"
      ]
     },
     "execution_count": 126,
     "metadata": {},
     "output_type": "execute_result"
    }
   ],
   "source": [
    "list(filter(lambda num:num%2==0,lst))"
   ]
  },
  {
   "cell_type": "code",
   "execution_count": 128,
   "id": "bb5c96cb-623b-4ccf-b244-50133591b614",
   "metadata": {},
   "outputs": [
    {
     "data": {
      "text/plain": [
       "[False, True, False, True, False, True, False, True, False, True, True, True]"
      ]
     },
     "execution_count": 128,
     "metadata": {},
     "output_type": "execute_result"
    }
   ],
   "source": [
    "list(map(lambda num:num%2==0,lst))"
   ]
  },
  {
   "cell_type": "code",
   "execution_count": null,
   "id": "faa99dc8-6cdf-4372-b78c-1e94fb2429d2",
   "metadata": {},
   "outputs": [],
   "source": []
  }
 ],
 "metadata": {
  "kernelspec": {
   "display_name": "Python 3 (ipykernel)",
   "language": "python",
   "name": "python3"
  },
  "language_info": {
   "codemirror_mode": {
    "name": "ipython",
    "version": 3
   },
   "file_extension": ".py",
   "mimetype": "text/x-python",
   "name": "python",
   "nbconvert_exporter": "python",
   "pygments_lexer": "ipython3",
   "version": "3.11.7"
  }
 },
 "nbformat": 4,
 "nbformat_minor": 5
}

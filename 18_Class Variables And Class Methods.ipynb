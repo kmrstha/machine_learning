{
 "cells": [
  {
   "cell_type": "code",
   "execution_count": 17,
   "id": "ea5dc513-34f1-45d6-9c43-b9118fd9a95b",
   "metadata": {},
   "outputs": [],
   "source": [
    "class Car:\n",
    "    base_price=100000 # Class Variables\n",
    "    def __init__(self,windows,doors,power): # initialization constructor\n",
    "        self.windows=windows # instance variable\n",
    "        self.doors=doors\n",
    "        self.power=power\n",
    "    def what_base_price(self):\n",
    "        print(\"The base price is {}\".format(self.base_price))\n",
    "    @classmethod \n",
    "    def revise_base_price(cls,inflation):\n",
    "        cls.base_price=cls.base_price+cls.base_price*inflation\n",
    "\n",
    "# Whenever we supply self, it says with respect to instance with the class\n",
    "# Whenever we provide cls, it is directly referring to the class"
   ]
  },
  {
   "cell_type": "code",
   "execution_count": 9,
   "id": "4cbf91c9-8a8a-430e-935e-8bd6889a01e1",
   "metadata": {},
   "outputs": [
    {
     "data": {
      "text/plain": [
       "100000"
      ]
     },
     "execution_count": 9,
     "metadata": {},
     "output_type": "execute_result"
    }
   ],
   "source": [
    "car1=Car(4,5,2000)\n",
    "car1.base_price"
   ]
  },
  {
   "cell_type": "code",
   "execution_count": 5,
   "id": "4196b173-cb13-4659-84a0-013ff4725cc0",
   "metadata": {},
   "outputs": [
    {
     "data": {
      "text/plain": [
       "100000"
      ]
     },
     "execution_count": 5,
     "metadata": {},
     "output_type": "execute_result"
    }
   ],
   "source": [
    "Car.base_price"
   ]
  },
  {
   "cell_type": "code",
   "execution_count": 11,
   "id": "46cc92dd-780f-49c6-8d9e-6d1b8e5ca320",
   "metadata": {},
   "outputs": [],
   "source": [
    "Car.revise_base_price(0.10)"
   ]
  },
  {
   "cell_type": "code",
   "execution_count": 13,
   "id": "1803bd91-bea5-4f47-9750-aa28fa046b4b",
   "metadata": {},
   "outputs": [
    {
     "data": {
      "text/plain": [
       "110000.0"
      ]
     },
     "execution_count": 13,
     "metadata": {},
     "output_type": "execute_result"
    }
   ],
   "source": [
    "Car.base_price"
   ]
  },
  {
   "cell_type": "code",
   "execution_count": 27,
   "id": "a94c2487-7f50-4f69-80e8-4b7940cf4c01",
   "metadata": {},
   "outputs": [
    {
     "data": {
      "text/plain": [
       "100000"
      ]
     },
     "execution_count": 27,
     "metadata": {},
     "output_type": "execute_result"
    }
   ],
   "source": [
    "car1=Car(4,5,2000)\n",
    "car1.base_price"
   ]
  },
  {
   "cell_type": "code",
   "execution_count": null,
   "id": "b68ca880-6d72-4534-8093-19aaa4586a53",
   "metadata": {},
   "outputs": [],
   "source": []
  }
 ],
 "metadata": {
  "kernelspec": {
   "display_name": "Python 3 (ipykernel)",
   "language": "python",
   "name": "python3"
  },
  "language_info": {
   "codemirror_mode": {
    "name": "ipython",
    "version": 3
   },
   "file_extension": ".py",
   "mimetype": "text/x-python",
   "name": "python",
   "nbconvert_exporter": "python",
   "pygments_lexer": "ipython3",
   "version": "3.11.7"
  }
 },
 "nbformat": 4,
 "nbformat_minor": 5
}
